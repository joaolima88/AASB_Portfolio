{
  "nbformat": 4,
  "nbformat_minor": 0,
  "metadata": {
    "colab": {
      "provenance": []
    },
    "kernelspec": {
      "name": "python3",
      "display_name": "Python 3"
    },
    "language_info": {
      "name": "python"
    }
  },
  "cells": [
    {
      "cell_type": "markdown",
      "source": [
        "# Portefólio - Grupo 3\n",
        "\n",
        "\n",
        "\n",
        "*   André Dias Ferreira - PG55127\n",
        "*   João Manuel Barbosa Lima - PG55701\n",
        "*   Romeu Fernandes - PG45861\n",
        "*  Inês Lameira - PG40082\n",
        "*   André Gomes - PG\n",
        "\n",
        "\n",
        "\n"
      ],
      "metadata": {
        "id": "lS38RTG_sTve"
      }
    },
    {
      "cell_type": "markdown",
      "source": [
        "# Sequências"
      ],
      "metadata": {
        "id": "wjp4gAL0dxMo"
      }
    },
    {
      "cell_type": "markdown",
      "source": [
        "#Descrição do algoritmo"
      ],
      "metadata": {
        "id": "fooX-1sgTpci"
      }
    },
    {
      "cell_type": "markdown",
      "source": [
        "O algoritmo realiza a análise de sequências de DNA para identificar ORFs (Open Reading Frames) e proteínas, funcionando em quatro etapas principais:\n",
        "\n",
        "\n",
        "\n",
        "1.   **Extração dos Codões**: O algoritmo extrai codões (sequências de 3 nucleotídeos) de uma sequência de DNA a partir de diferentes quadros de leitura (0, 1, 2).\n",
        "\n",
        "2.   **Tradução para Aminoácidos**: Cada codão é traduzido no seu aminoácido correspondente, utilizando uma tabela de codões, iniciando com um star codon e terminando com um stop codon. O algoritmo também permite a utilização de múltiplos codões de início.\n",
        "\n",
        "3. **Identificação de Proteínas**: O algoritmo analisa a sequência de aminoácidos para identificar proteínas completas, ou seja, aquelas que iniciam com um codão de início (geralmente \"M\" para metionina) e terminam com um stop codon.\n",
        "\n",
        "4. **Identificação de ORFs e Proteínas**: A partir das traduções geradas, o algoritmo encontra todos os ORFs possíveis e as proteínas associadas, considerando todos os quadros de leitura retornando e imprimindo esses resultados.\n",
        "\n",
        "\n"
      ],
      "metadata": {
        "id": "HRVLjkSd1tUn"
      }
    },
    {
      "cell_type": "markdown",
      "source": [
        "# Projeto de alto nível"
      ],
      "metadata": {
        "id": "cT9DcMdnTzPb"
      }
    },
    {
      "cell_type": "markdown",
      "source": [
        "#Input:\n",
        "\n",
        "\n",
        "*   **Sequência de DNA:** A sequência de nucleotídeos (A, T, G, C) que será analisada para a identificação de ORFs e proteínas.\n",
        "*   **Start Codons (Opcional):** Uma lista de codões de iniciação, com o valor padrão sendo **ATG, CTG, TTG**, que define quais sequências serão consideradas como início para a tradução.\n",
        "* **Stop Codons** (Opcional): Uma lista de codões de terminação, com o valor padrão sendo **TAA, TAG, TGA**, que indicam onde as proteínas terminam. Se não forem fornecidos, o algoritmo usará os codões de parada padrão.\n",
        "\n",
        "#Processo:\n",
        "\n",
        "1. **Identificação de Codões:** O algoritmo percorre a sequência de DNA e extrai os codões, que são substrings de três nucleotídeos. Essa extração ocorre em três quadros de leitura diferentes, iniciando com os índices 0, 1 e 2 da sequência.\n",
        "\n",
        "2. **Verificação de Codões de Início:** O algoritmo verifica os codões de iniciação definidos e começa a tradução a partir do primeiro start codon encontrado. Para cada quadro de leitura, a sequência de codões é analisada em busca de um codão de iniciação.\n",
        "\n",
        "3. **Tradução para Aminoácidos:** Após identificar um codão de iniciação, o algoritmo traduz os codões subsequentes para seus aminoácidos correspondentes, com base na tabela de codões. A tradução continua até que um codão de terminação seja encontrado.\n",
        "\n",
        "4. **Identificação de ORFs (Open Reading Frames):** O algoritmo encontra todos os ORFs possíveis nas três leituras (frames) da sequência. Um ORF é uma sequência de DNA entre um start codon e um stop codon, que pode ser traduzida numa proteína. O algoritmo identifica todos os ORFs válidos em cada quadro de leitura.\n",
        "\n",
        "5. **Tradução de Proteínas:** Para cada ORF identificado, o algoritmo gera a sequência de aminoácidos correspondente, e as proteínas completas são armazenadas. As proteínas são aquelas que começam com metionina (codão \"ATG\") e terminam com um codão de terminação.\n",
        "\n",
        "6. **Retorno dos Resultados:** O algoritmo retorna todos os ORFs encontrados e as proteínas correspondentes para cada quadro de leitura.\n",
        "\n"
      ],
      "metadata": {
        "id": "DnrSTmNh3QOo"
      }
    },
    {
      "cell_type": "markdown",
      "source": [
        "# Projeto de baixo nível"
      ],
      "metadata": {
        "id": "WzzKxQ9jS8eI"
      }
    },
    {
      "cell_type": "markdown",
      "source": [],
      "metadata": {
        "id": "VGPHi4Gk1uC0"
      }
    },
    {
      "cell_type": "markdown",
      "source": [
        "# Implementação\n"
      ],
      "metadata": {
        "id": "fqo4C_LMYtWZ"
      }
    },
    {
      "cell_type": "code",
      "source": [
        "def rf_codons(strand, reading_frame=0):\n",
        "    assert isinstance(strand, str)\n",
        "    assert 0 <= reading_frame <= 2 and isinstance(reading_frame, int)\n",
        "    return [strand[i:i+3].upper() for i in range(reading_frame, len(strand)-2, 3)]\n",
        "\n",
        "def all_rfs(strand):\n",
        "    assert isinstance(strand, str)\n",
        "    return [rf_codons(strand, i) for i in range(3)]\n",
        "\n",
        "def codon_table():\n",
        "    return {\n",
        "        \"ATA\":\"I\", \"ATC\":\"I\", \"ATT\":\"I\", \"ATG\":\"M\", \"ACA\":\"T\", \"ACC\":\"T\", \"ACG\":\"T\", \"ACT\":\"T\",\n",
        "        \"AAC\":\"N\", \"AAT\":\"N\", \"AAA\":\"K\", \"AAG\":\"K\", \"AGC\":\"S\", \"AGT\":\"S\", \"AGA\":\"R\", \"AGG\":\"R\",\n",
        "        \"CTA\":\"L\", \"CTC\":\"L\", \"CTG\":\"L\", \"CTT\":\"L\", \"CCA\":\"P\", \"CCC\":\"P\", \"CCG\":\"P\", \"CCT\":\"P\",\n",
        "        \"CAC\":\"H\", \"CAT\":\"H\", \"CAA\":\"Q\", \"CAG\":\"Q\", \"CGA\":\"R\", \"CGC\":\"R\", \"CGG\":\"R\", \"CGT\":\"R\",\n",
        "        \"GTA\":\"V\", \"GTC\":\"V\", \"GTG\":\"V\", \"GTT\":\"V\", \"GCA\":\"A\", \"GCC\":\"A\", \"GCG\":\"A\", \"GCT\":\"A\",\n",
        "        \"GAC\":\"D\", \"GAT\":\"D\", \"GAA\":\"E\", \"GAG\":\"E\", \"GGA\":\"G\", \"GGC\":\"G\", \"GGG\":\"G\", \"GGT\":\"G\",\n",
        "        \"TCA\":\"S\", \"TCC\":\"S\", \"TCG\":\"S\", \"TCT\":\"S\", \"TTC\":\"F\", \"TTT\":\"F\", \"TTA\":\"L\", \"TTG\":\"L\",\n",
        "        \"TAC\":\"Y\", \"TAT\":\"Y\", \"TAA\":\"_\", \"TAG\":\"_\", \"TGC\":\"C\", \"TGT\":\"C\", \"TGA\":\"_\", \"TGG\":\"W\"\n",
        "    }\n",
        "\n",
        "def start_codons():\n",
        "    return ['ATG', 'CTG', 'TTG']\n",
        "\n",
        "def stop_codons():\n",
        "    return ['TAA', 'TAG', 'TGA']\n",
        "\n",
        "def translate_rf(all_rf_codons, start_codon=None):\n",
        "    trans_table = codon_table()\n",
        "    start_codon = start_codon or start_codons()\n",
        "\n",
        "    assert isinstance(start_codon, list) and all(isinstance(codon, str) for codon in start_codon)\n",
        "\n",
        "    seq_aas = []\n",
        "    for rf in all_rf_codons:\n",
        "        seq_aa = ''\n",
        "        in_orf = False\n",
        "        for codon in rf:\n",
        "            upper_codon = codon.upper()\n",
        "            if upper_codon in stop_codons() and in_orf:\n",
        "                seq_aa += '_'  # Adiciona codão stop como '_'\n",
        "                break\n",
        "            elif upper_codon in start_codon and not in_orf:\n",
        "                in_orf = True\n",
        "                seq_aa += trans_table[upper_codon]  # Início da tradução com o aminoácido correspondente\n",
        "            elif in_orf:\n",
        "                seq_aa += trans_table[upper_codon]  # Adiciona o aminoácido correspondente\n",
        "        seq_aas.append(seq_aa)\n",
        "    return seq_aas\n",
        "\n",
        "def find_prots(seq_aa):\n",
        "    assert isinstance(seq_aa, str)\n",
        "    alphabet = 'ACDEFGHIKLMNPQRSTVWY_'\n",
        "    prots = []\n",
        "    current_prot = ''\n",
        "    in_protein = False\n",
        "\n",
        "    for aa in seq_aa.upper():\n",
        "        assert aa in alphabet\n",
        "        if in_protein:\n",
        "            if aa == '_':  # Codão stop encontrado\n",
        "                in_protein = False\n",
        "                if current_prot:  # Proteína não vazia\n",
        "                    prots.append(current_prot)\n",
        "                current_prot = ''\n",
        "            else:\n",
        "                current_prot += aa\n",
        "        elif aa not in '_':  # Início da proteína, qualquer aminoácido exceto '_'\n",
        "            current_prot = aa\n",
        "            in_protein = True\n",
        "    # Adicionar proteína se não tiver terminado em '_'\n",
        "    if current_prot:\n",
        "        prots.append(current_prot)\n",
        "    return prots\n",
        "\n",
        "def all_prots(strand, start='', end=''):\n",
        "    rfs_cod = all_rfs(strand)\n",
        "    rfs_seq_aa = translate_rf(rfs_cod, start_codon=[start])\n",
        "    todas_proteinas = set()\n",
        "    for seq in rfs_seq_aa:\n",
        "        prots = find_prots(seq)\n",
        "        todas_proteinas.update(prots)\n",
        "\n",
        "    orfs = []\n",
        "    for i, seq in enumerate(rfs_seq_aa):\n",
        "        for prot in find_prots(seq):\n",
        "            start_idx = seq.find(prot)\n",
        "            end_idx = start_idx + len(prot)\n",
        "            # Ajuste para garantir que estamos a usar os codões corretos\n",
        "            # Dividir por 3 porque cada aminoácido corresponde a 3 nucleotídeos\n",
        "            orfs.append(''.join(rfs_cod[i][start_idx//3:end_idx//3]))  # Ajuste para garantir que o ORF está correto\n",
        "\n",
        "    return orfs, todas_proteinas"
      ],
      "metadata": {
        "id": "EVXMYE_LsRIH"
      },
      "execution_count": null,
      "outputs": []
    },
    {
      "cell_type": "code",
      "source": [
        "strand=input(\"Digite a sequência de DNA: \").upper()\n",
        "#Exemplo do funcionamento da função all_prots variando o codão de iniciação e terminação\n",
        "#print('Exemplo variando o codão de iniciação:')\n",
        "#print('Com ATG:', all_prots(strand,start='ATG',end=''))\n",
        "#print('Com CTG:', all_prots(strand,start='CTG'))\n",
        "#print('Com TTG:', all_prots(strand,start='TTG'))\n",
        "print(all_prots(strand))"
      ],
      "metadata": {
        "id": "wShnmFtBdfka"
      },
      "execution_count": null,
      "outputs": []
    },
    {
      "cell_type": "markdown",
      "source": [
        "# Testes Unitários"
      ],
      "metadata": {
        "id": "LAXMBDK7T4Bv"
      }
    },
    {
      "cell_type": "code",
      "source": [
        "import unittest\n",
        "\n",
        "class Test_ORFs(unittest.TestCase):\n",
        "\n",
        "    def test_rf_codons(self):\n",
        "        strand = \"ATGCGATATAGG\"\n",
        "        expected = [\"ATG\", \"CGA\", \"TAT\", \"AGG\"]\n",
        "        self.assertEqual(rf_codons(strand), expected)\n",
        "        self.assertEqual(rf_codons(strand, reading_frame=1), [\"TGC\", \"GAT\", \"ATA\"])\n",
        "\n",
        "        # Teste de erro\n",
        "        with self.assertRaises(AssertionError):\n",
        "            rf_codons(123)  # strand não é uma string\n",
        "        with self.assertRaises(AssertionError):\n",
        "            rf_codons(strand, reading_frame=3)  # reading_frame inválido\n",
        "\n",
        "    def test_all_rfs(self):\n",
        "        strand = \"ATGCGATATAGG\"\n",
        "        result = all_rfs(strand)\n",
        "        self.assertEqual(len(result), 3)  # Deve haver 3 reading frames\n",
        "        self.assertEqual(result[0], ['ATG', 'CGA', 'TAT', 'AGG'])\n",
        "        self.assertEqual(result[1], ['TGC', 'GAT', 'ATA'])\n",
        "        self.assertEqual(result[2], ['GCG', 'ATA', 'TAG'])\n",
        "\n",
        "\n",
        "        with self.assertRaises(AssertionError):\n",
        "            all_rfs(123)  # strand não é uma string\n",
        "\n",
        "    def test_codon_table(self):\n",
        "        table = codon_table()\n",
        "        self.assertEqual(table['ATG'], 'M')\n",
        "        self.assertEqual(table['TAA'], '_')\n",
        "\n",
        "    def test_start_stop_codons(self):\n",
        "        self.assertEqual(start_codons(), ['ATG', 'CTG', 'TTG'])\n",
        "        self.assertEqual(stop_codons(), ['TAA', 'TAG', 'TGA'])\n",
        "\n",
        "    def test_translate_rf(self):\n",
        "        strand = \"ATGTAATAG\"\n",
        "        rfs = all_rfs(strand)\n",
        "        expected = ['M_', '', '']\n",
        "        self.assertEqual(translate_rf(rfs), expected)\n",
        "\n",
        "        # Teste com múltiplos start cod\n",
        "        strand = \"ATGGTGTAA\"\n",
        "        rfs = all_rfs(strand)\n",
        "        expected = ['MV_', '', '']\n",
        "        self.assertEqual(translate_rf(rfs, start_codon=['ATG', 'CTG', 'TTG']), expected)\n",
        "\n",
        "        # Teste de erro\n",
        "        with self.assertRaises(AssertionError):\n",
        "            translate_rf(rfs, start_codon='XXX')  # cod start inválido\n",
        "\n",
        "    def test_find_prots(self):\n",
        "        seq = \"MAAAAAAAAAAAAAAA_\"\n",
        "        self.assertEqual(find_prots(seq), ['MAAAAAAAAAAAAAAA'])\n",
        "\n",
        "        # Teste de erro\n",
        "        with self.assertRaises(AssertionError):\n",
        "            find_prots('MZ')  # Aminoácido inválido\n",
        "\n",
        "def test_all_prots(self):\n",
        "    strand = \"ATGTAA\"\n",
        "    orfs, prots = all_prots(strand)\n",
        "    self.assertEqual(orfs, ['ATG'])\n",
        "    self.assertEqual(prots, ['M'])\n",
        "\n",
        "    # Teste com uma sequência mais complexa, incluindo múltiplos codões de início\n",
        "    strand = \"ATGATATAGCTGTAA\"\n",
        "    orfs, prots = all_prots(strand, start='ATG')  # Teste com um início específico\n",
        "    self.assertIn('ATG', orfs)  # Espera-se o ORF 'ATG'\n",
        "    self.assertIn('M', prots)  # Espera-se a proteína 'M'\n",
        "\n",
        "    orfs, prots = all_prots(strand, start='CTG')  # Teste com outro início específico\n",
        "    self.assertIn('CTG', orfs)\n",
        "    self.assertIn('L', prots)\n",
        "\n",
        "    strand = \"ATGATATAGCTGTAA\"\n",
        "    orfs, prots = all_prots(strand)  # Teste com múltiplos start\n",
        "    self.assertIn('ATG', orfs)\n",
        "    self.assertIn('CTG', orfs)\n",
        "    self.assertIn('M', prots)\n",
        "    self.assertIn('L', prots)\n",
        "if __name__ == '__main__':\n",
        "    suite = unittest.TestLoader().loadTestsFromTestCase(Test_ORFs)\n",
        "    unittest.TextTestRunner(verbosity=3).run(suite)"
      ],
      "metadata": {
        "colab": {
          "base_uri": "https://localhost:8080/"
        },
        "id": "mZ2_W-WvYzjY",
        "outputId": "13a0a257-8300-41e8-b6cc-fd9b2d9e0cb1"
      },
      "execution_count": null,
      "outputs": [
        {
          "output_type": "stream",
          "name": "stderr",
          "text": [
            "test_all_rfs (__main__.Test_ORFs) ... ok\n",
            "test_codon_table (__main__.Test_ORFs) ... ok\n",
            "test_find_prots (__main__.Test_ORFs) ... ok\n",
            "test_rf_codons (__main__.Test_ORFs) ... ok\n",
            "test_start_stop_codons (__main__.Test_ORFs) ... ok\n",
            "test_translate_rf (__main__.Test_ORFs) ... ok\n",
            "\n",
            "----------------------------------------------------------------------\n",
            "Ran 6 tests in 0.022s\n",
            "\n",
            "OK\n"
          ]
        }
      ]
    },
    {
      "cell_type": "markdown",
      "source": [
        "# Alinhamentos locais e globais"
      ],
      "metadata": {
        "id": "GoL572U8keN_"
      }
    },
    {
      "cell_type": "markdown",
      "source": [
        "### **Alinhamentos globais:** Needleman-Wunsch"
      ],
      "metadata": {
        "id": "oXS4tficzE-v"
      }
    },
    {
      "cell_type": "markdown",
      "source": [
        "#### **Descrição do algoritmo**"
      ],
      "metadata": {
        "id": "DWay9dlRzTOL"
      }
    },
    {
      "cell_type": "markdown",
      "source": [
        "O **Alinhamento Global (Needleman-Wunsch)** tem como objetivo fazer um alinhamento de duas sequências ao longo de toda a sua extensão. Para isso utiliza **programação dinâmica** para preencher uma matriz de pontuação com base numa pontuação de correspondência (quando os caracteres são semelhantes), penalidade de incompatibilidade (quando os caracteres diferem) e penalidade por gap (espaços inseridos para fazer o alinhamento)."
      ],
      "metadata": {
        "id": "GqqDKEaxzbGi"
      }
    },
    {
      "cell_type": "markdown",
      "source": [
        "#### **Projeto de alto nível**"
      ],
      "metadata": {
        "id": "xaf_lQw8zc3Q"
      }
    },
    {
      "cell_type": "markdown",
      "source": [
        "**Entrada:**\n",
        "Sequência 1 (seq1).\n",
        "Sequência 2 (seq2).\n",
        "Matriz de pontuação (ou pontuações fixas para correspondência, incompatibilidade e gap).\n",
        "\n",
        "\n",
        "**Processamento:**\n",
        "Iniciar a matriz de pontuação e de rastreamento.\n",
        "Preencher a matriz com base nas regras do algoritmo global.\n",
        "Rastrear o alinhamento a partir da matriz preenchida.\n",
        "\n",
        "\n",
        "**Saída:**\n",
        "Alinhamentos das sequências.\n",
        "Pontuação total do alinhamento."
      ],
      "metadata": {
        "id": "aqNqolRnzfkp"
      }
    },
    {
      "cell_type": "markdown",
      "source": [
        "#### **Projeto de baixo nível**"
      ],
      "metadata": {
        "id": "tJZ3_z-NzlmM"
      }
    },
    {
      "cell_type": "markdown",
      "source": [
        "Estruturas de Dados\n",
        "\n",
        "\n",
        "Matriz de Pontuação:\n",
        "Dimensões (len(seq1) + 1) x (len(seq2) + 1).\n",
        "Armazena a melhor pontuação em cada posição.\n",
        "\n",
        "Matriz de Rastreamento:\n",
        "Armazena a direção do movimento (diagonal, para cima, ou para a esquerda).\n",
        "'''\n",
        "1. Iniciar a matriz de pontuação:\n",
        "   Para cada célula da primeira linha e coluna, preencher com penalidades de gap.\n",
        "\n",
        "2. Preencher a matriz de pontuação:\n",
        "   Para cada célula (i, j):\n",
        "      - Calcula o máximo entre:\n",
        "         a) Diagonal (correspondência/incompatibilidade).\n",
        "         b) Para cima (gap na sequência 2).\n",
        "         c) Para a esquerda (gap na sequência 1).\n",
        "\n",
        "3. Rastrear o alinhamento:\n",
        "   Começa no canto inferior direito.\n",
        "   Seguir as direções armazenadas na matriz de rastreamento até a origem.\n",
        "'''"
      ],
      "metadata": {
        "id": "QJsVXtrQztiw"
      }
    },
    {
      "cell_type": "markdown",
      "source": [
        "#### **Implementação**"
      ],
      "metadata": {
        "id": "k3hxiQxPz7RK"
      }
    },
    {
      "cell_type": "code",
      "source": [
        "def get_blosum62():\n",
        "    blosum62_txt = \"\"\"\n",
        "   A  R  N  D  C  Q  E  G  H  I  L  K  M  F  P  S  T  W  Y  V  B  Z  X  *\n",
        "A  4 -1 -2 -2  0 -1 -1  0 -2 -1 -1 -1 -1 -2 -1  1  0 -3 -2  0 -2 -1  0 -4\n",
        "R -1  5  0 -2 -3  1  0 -2  0 -3 -2  2 -1 -3 -2 -1 -1 -3 -2 -3 -1  0 -1 -4\n",
        "N -2  0  6  1 -3  0  0  0  1 -3 -3  0 -2 -3 -2  1  0 -4 -2 -3  3  0 -1 -4\n",
        "D -2 -2  1  6 -3  0  2 -1 -1 -3 -4 -1 -3 -3 -1  0 -1 -4 -3 -3  4  1 -1 -4\n",
        "C  0 -3 -3 -3  9 -3 -4 -3 -3 -1 -1 -3 -1 -2 -3 -1 -1 -2 -2 -1 -3 -3 -2 -4\n",
        "Q -1  1  0  0 -3  5  2 -2  0 -3 -2  1  0 -3 -1  0 -1 -2 -1 -2  0  3 -1 -4\n",
        "E -1  0  0  2 -4  2  5 -2  0 -3 -3  1 -2 -3 -1  0 -1 -3 -2 -2  1  4 -1 -4\n",
        "G  0 -2  0 -1 -3 -2 -2  6 -2 -4 -4 -2 -3 -3 -2  0 -2 -2 -3 -3 -1 -2 -1 -4\n",
        "H -2  0  1 -1 -3  0  0 -2  8 -3 -3 -1 -2 -1 -2 -1 -2 -2  2 -3  0  0 -1 -4\n",
        "I -1 -3 -3 -3 -1 -3 -3 -4 -3  4  2 -3  1  0 -3 -2 -1 -3 -1  3 -3 -3 -1 -4\n",
        "L -1 -2 -3 -4 -1 -2 -3 -4 -3  2  4 -2  2  0 -3 -2 -1 -2 -1  1 -4 -3 -1 -4\n",
        "K -1  2  0 -1 -3  1  1 -2 -1 -3 -2  5 -1 -3 -1  0 -1 -3 -2 -2  0  1 -1 -4\n",
        "M -1 -1 -2 -3 -1  0 -2 -3 -2  1  2 -1  5  0 -2 -1 -1 -1 -1  1 -3 -1 -1 -4\n",
        "F -2 -3 -3 -3 -2 -3 -3 -3 -1  0  0 -3  0  6 -4 -2 -2  1  3 -1 -3 -3 -1 -4\n",
        "P -1 -2 -2 -1 -3 -1 -1 -2 -2 -3 -3 -1 -2 -4  7 -1 -1 -4 -3 -2 -2 -1 -2 -4\n",
        "S  1 -1  1  0 -1  0  0  0 -1 -2 -2  0 -1 -2 -1  4  1 -3 -2 -2  0  0  0 -4\n",
        "T  0 -1  0 -1 -1 -1 -1 -2 -2 -1 -1 -1 -1 -2 -1  1  5 -2 -2  0 -1 -1  0 -4\n",
        "W -3 -3 -4 -4 -2 -2 -3 -2 -2 -3 -2 -3 -1  1 -4 -3 -2 11  2 -3 -4 -3 -2 -4\n",
        "Y -2 -2 -2 -3 -2 -1 -2 -3  2 -1 -1 -2 -1  3 -3 -2 -2  2  7 -1 -3 -2 -1 -4\n",
        "V  0 -3 -3 -3 -1 -2 -2 -3 -3  3  1 -2  1 -1 -2 -2  0 -3 -1  4 -3 -2 -1 -4\n",
        "B -2 -1  3  4 -3  0  1 -1  0 -3 -4  0 -3 -3 -2  0 -1 -4 -3 -3  4  1 -1 -4\n",
        "Z -1  0  0  1 -3  3  4 -2  0 -3 -3  1 -1 -3 -1  0 -1 -3 -2 -2  1  4 -1 -4\n",
        "X  0 -1 -1 -1 -2 -1 -1 -1 -1 -1 -1 -1 -1 -1 -2  0  0 -2 -1 -1 -1 -1 -1 -4\n",
        "* -4 -4 -4 -4 -4 -4 -4 -4 -4 -4 -4 -4 -4 -4 -4 -4 -4 -4 -4 -4 -4 -4 -4  1\n",
        "\"\"\"\n",
        "\n",
        "    header, *rest = [L.split() for L in blosum62_txt.splitlines() if L]\n",
        "\n",
        "    return {L : {k : int(v) for k, v in zip(header, R)} for L, R in [(line[0], line[1:]) for line in rest]}\n",
        "\n"
      ],
      "metadata": {
        "id": "2btJqWEA0EVo"
      },
      "execution_count": 2,
      "outputs": []
    },
    {
      "cell_type": "code",
      "source": [
        "from pprint import pprint\n",
        "\n",
        "def needleman_wunsch(seq1, seq2, g=-8):\n",
        "    subst = get_blosum62()\n",
        "    score = [[0 for x in '-' + seq1] for y in '-' + seq2]\n",
        "    trace = [[' ' for x in '-' + seq1] for y in '-' + seq2]\n",
        "\n",
        "\n",
        "    for p, x in enumerate(seq1):\n",
        "        score[0][p + 1] = score[0][p] + g\n",
        "        trace[0][p + 1] = 'E'\n",
        "    for p, y in enumerate(seq2):\n",
        "        score[p + 1][0] = score[p][0] + g\n",
        "        trace[p + 1][0] = 'C'\n",
        "\n",
        "\n",
        "    for p1, x1 in enumerate(seq1):\n",
        "        for p2, x2 in enumerate(seq2):\n",
        "            score[p2 + 1][p1 + 1] = max([\n",
        "                    score[p2    ][p1    ] + subst[x1][x2],  # Diagonal\n",
        "                    score[p2    ][p1 + 1] + g,              # Cima\n",
        "                    score[p2 + 1][p1    ] + g,              # Esquerda\n",
        "                    ]\n",
        "                    )\n",
        "            if score[p2 + 1][p1 + 1] == score[p2    ][p1    ] +subst[x1][x2]:\n",
        "                trace[p2 + 1][p1 + 1] = 'D'\n",
        "            if score[p2 + 1][p1 + 1] == score[p2    ][p1 + 1] + g:\n",
        "                trace[p2 + 1][p1 + 1] = 'C'\n",
        "            if score[p2 + 1][p1 + 1] == score[p2 + 1][p1    ] + g:\n",
        "                trace[p2 + 1][p1 + 1] = 'E'\n",
        "\n",
        "    return score, trace\n",
        "\n",
        "def print_matrix(mat):\n",
        "    for linha in mat:\n",
        "        for x in linha:\n",
        "            print(f\"{x:3d}\", end = \" \")\n",
        "        print()\n",
        "\n",
        "def print_trace(mat):\n",
        "    for linha in mat:\n",
        "        print(*linha)\n",
        "\n",
        "def score(seq1, seq2, g = -8):\n",
        "    return needleman_wunsch(seq1, seq2, g)[-1][-1]\n",
        "\n",
        "def reconstroi_align(seq1, seq2, trace):\n",
        "    C = len(seq1)\n",
        "    L = len(seq2)\n",
        "\n",
        "    A1 = ''\n",
        "    A2 = ''\n",
        "\n",
        "    while C > 0 or L > 0:\n",
        "        print(L, C)\n",
        "        if trace[L][C] == 'D':\n",
        "            L -= 1\n",
        "            C -= 1\n",
        "            A1 = seq1[C] + A1\n",
        "            A2 = seq2[L] + A2\n",
        "        elif trace[L][C] == 'E':\n",
        "            C -= 1\n",
        "            A1 = seq1[C] + A1\n",
        "            A2 = '-' + A2\n",
        "        elif trace[L][C] == 'C':\n",
        "            L -= 1\n",
        "            A1 = '-' + A1\n",
        "            A2 = seq2[L] + A2\n",
        "        else:\n",
        "            raise ValueError(\"Unexpected trace value\")\n",
        "    print(A1)\n",
        "    print(A2)\n",
        "    return A1, A2\n",
        "\n",
        "seq1 = input()\n",
        "seq2 = input()\n",
        "S, T = needleman_wunsch(seq1, seq2)\n",
        "print_matrix(S)\n",
        "print()\n",
        "print_trace(T)\n",
        "\n",
        "reconstroi_align(seq1, seq2, T)"
      ],
      "metadata": {
        "id": "inOD_3B_1Mym",
        "colab": {
          "base_uri": "https://localhost:8080/"
        },
        "outputId": "c6761d33-d820-4fce-eba2-5cd04a59f036"
      },
      "execution_count": 3,
      "outputs": [
        {
          "output_type": "stream",
          "name": "stdout",
          "text": [
            "AAGTAC\n",
            "ATGTAC\n",
            "  0  -8 -16 -24 -32 -40 -48 \n",
            " -8   4  -4 -12 -20 -28 -36 \n",
            "-16  -4   4  -4  -7 -15 -23 \n",
            "-24 -12  -4  10   2  -6 -14 \n",
            "-32 -20 -12   2  15   7  -1 \n",
            "-40 -28 -16  -6   7  19  11 \n",
            "-48 -36 -24 -14  -1  11  28 \n",
            "\n",
            "  E E E E E E\n",
            "C D E E E E E\n",
            "C C D E D E E\n",
            "C C C D E E E\n",
            "C C C C D E E\n",
            "C C D C C D E\n",
            "C C C C C C D\n",
            "6 6\n",
            "5 5\n",
            "4 4\n",
            "3 3\n",
            "2 2\n",
            "1 1\n",
            "AAGTAC\n",
            "ATGTAC\n"
          ]
        },
        {
          "output_type": "execute_result",
          "data": {
            "text/plain": [
              "('AAGTAC', 'ATGTAC')"
            ]
          },
          "metadata": {},
          "execution_count": 3
        }
      ]
    },
    {
      "cell_type": "markdown",
      "source": [
        "#### **Testes de unidade**"
      ],
      "metadata": {
        "id": "MyzjPxhn0MOO"
      }
    },
    {
      "cell_type": "code",
      "source": [
        "import unittest\n",
        "\n",
        "class TestAlignmentMethods(unittest.TestCase):\n",
        "\n",
        "    def test_needleman_wunsch_basic(self):\n",
        "        seq1 = \"AGG\"\n",
        "        seq2 = \"AGG\"\n",
        "        score, trace = needleman_wunsch(seq1, seq2, g=-8)\n",
        "\n",
        "        # Verificando o valor de pontuação esperado para essas duas sequências\n",
        "        self.assertEqual(score[len(seq2)][len(seq1)], 16)  # Pontuação esperada para alinhamento perfeito\n",
        "        self.assertEqual(trace[len(seq2)][len(seq1)], 'D')  # Alinhamento diagonal\n",
        "\n",
        "    def test_identical_sequences(self):\n",
        "        seq1 = \"AGT\"\n",
        "        seq2 = \"AGT\"\n",
        "        S, T = needleman_wunsch(seq1, seq2)\n",
        "        A1, A2 = reconstroi_align(seq1, seq2, T)\n",
        "        self.assertEqual(A1, \"AGT\")\n",
        "        self.assertEqual(A2, \"AGT\")\n",
        "\n",
        "    def test_completely_different_sequences(self):\n",
        "        seq1 = \"AGT\"\n",
        "        seq2 = \"CGA\"\n",
        "        S, T = needleman_wunsch(seq1, seq2)\n",
        "        A1, A2 = reconstroi_align(seq1, seq2, T)\n",
        "        self.assertEqual(A1, \"AGT\")\n",
        "        self.assertEqual(A2, \"CGA\")\n",
        "\n",
        "    def test_edge_case_empty_sequences(self):\n",
        "        # Teste de sequências vazias\n",
        "        seq1 = \"\"\n",
        "        seq2 = \"\"\n",
        "\n",
        "        S, T = needleman_wunsch(seq1, seq2)\n",
        "\n",
        "        # Com ambas as sequências vazias, a pontuação deve ser 0\n",
        "        self.assertEqual(S[-1][-1], 0)\n",
        "\n",
        "        aligned_seq1, aligned_seq2 = reconstroi_align(seq1, seq2, T)\n",
        "\n",
        "        # O alinhamento também deve ser vazio\n",
        "        self.assertEqual(aligned_seq1, \"\")\n",
        "        self.assertEqual(aligned_seq2, \"\")\n",
        "\n",
        "if __name__ == '__main__':\n",
        "    unittest.main(argv=['first-arg-is-ignored'], exit=False)"
      ],
      "metadata": {
        "id": "hJrN3eNY0btu"
      },
      "execution_count": null,
      "outputs": []
    },
    {
      "cell_type": "markdown",
      "source": [
        "### **Alinhamentos locais:** Smith-Waterman"
      ],
      "metadata": {
        "id": "Xwo_CQDj0eh1"
      }
    },
    {
      "cell_type": "markdown",
      "source": [
        "#### **Descrição do algoritmo**"
      ],
      "metadata": {
        "id": "W-EGJ2C60fub"
      }
    },
    {
      "cell_type": "markdown",
      "source": [
        "O **Alinhamento Local (Smith-Waterman)** tem como objetivo encontrar os segmentos de maior similaridade entre 2 sequências biológicas. Apesar de também utilizar **programação dinâmica**, difere do alinhamento de Needleman-Wunsch porque este permite alinhar apenas partes das sequências. Neste alinhamento apenas é retornado o segmento de maior pontuação.\n",
        "\n",
        "**Passos do Algoritmo Smith-Waterman:**\n",
        "\n",
        "    1º -> Iniciação:\n",
        "            A matriz de pontuação começa com zeros. Não há penalidades iniciais para gaps.\n",
        "\n",
        "    2º -> Preenchimento da Matriz:\n",
        "            Cada célula é preenchida com o valor máximo entre:\n",
        "            A pontuação de alinhamento diagonal anterior (correspondência/incompatibilidade).\n",
        "            A pontuação da célula acima (gap na sequência 2).\n",
        "            A pontuação da célula à esquerda (gap na sequência 1).\n",
        "            Zero (opção de não alinhar).\n",
        "\n",
        "    3º -> Identificação do Máximo:\n",
        "            A célula com o maior valor na matriz representa o final do melhor alinhamento local.\n",
        "\n",
        "    4º -> Rastreamento:\n",
        "            A partir da célula de maior pontuação, seguimos as direções de rastreamento até encontrar uma célula com valor 0, recuperando as subsequências alinhadas."
      ],
      "metadata": {
        "id": "bpsfqjIZ0iDt"
      }
    },
    {
      "cell_type": "markdown",
      "source": [
        "#### **Projeto de alto nível**"
      ],
      "metadata": {
        "id": "mmniTPw60sO8"
      }
    },
    {
      "cell_type": "markdown",
      "source": [
        "**Entrada:** Sequências seq1 e seq2. Pontuação de match, penalidade de mismatch, penalidade de gap.\n",
        "\n",
        "**Processamento:** Construir uma matriz de tamanho (len(seq1)+1) x (len(seq2)+1). Iniciar a matriz de pontuação com zeros. Preencher a matriz iterativamente com base na fórmula de pontuação. Identificar a célula com a maior pontuação. Rastrear o alinhamento local a partir dessa célula.\n",
        "\n",
        "**Saída:** Melhor alinhamento local das duas sequências. Pontuação do alinhamento.A matriz de pontuação (opcional, para validação)."
      ],
      "metadata": {
        "id": "AkA2tnWE0uWc"
      }
    },
    {
      "cell_type": "markdown",
      "source": [
        "#### **Projeto de baixo nível**"
      ],
      "metadata": {
        "id": "SeV_0-Rr04tH"
      }
    },
    {
      "cell_type": "markdown",
      "source": [
        "Estruturas de Dados:\n",
        "\n",
        "Matriz de Pontuação (score_matrix): Armazena as pontuações para cada par de posições.\n",
        "Matriz de Rastreamento (traceback_matrix): Armazena a direção do movimento em cada posição (diagonal, para cima, para a esquerda).\n",
        "\n",
        "Condições de Paragem:\n",
        "O rastreamento termina quando a pontuação de uma célula atinge 0."
      ],
      "metadata": {
        "id": "jJTAX7SN06OW"
      }
    },
    {
      "cell_type": "markdown",
      "source": [
        "#### **Implementação**"
      ],
      "metadata": {
        "id": "QfLEWpEi09nB"
      }
    },
    {
      "cell_type": "code",
      "source": [
        "from pprint import pprint\n",
        "\n",
        "def smith_waterman(seq1, seq2, g=-8):\n",
        "    subst = get_blosum62()\n",
        "    score = [[0 for _ in '-' + seq1] for _ in '-' + seq2]\n",
        "    trace = [[' ' for _ in '-' + seq1] for _ in '-' + seq2]\n",
        "\n",
        "    # Preenchendo a matriz de pontuação\n",
        "    for p1, x1 in enumerate(seq1):\n",
        "        for p2, x2 in enumerate(seq2):\n",
        "            # Calculando pontuação considerando diagonal (match/mismatch), cima e esquerda\n",
        "            diag = score[p2][p1] + subst[x1][x2]\n",
        "            cima = score[p2 + 1][p1] + g\n",
        "            esquerda = score[p2][p1 + 1] + g\n",
        "\n",
        "            # Pontuação máxima deve ser zero ou maior\n",
        "            score[p2 + 1][p1 + 1] = max(0, diag, cima, esquerda)\n",
        "\n",
        "            # Atribuindo as direções para backtracking\n",
        "            if score[p2 + 1][p1 + 1] == diag:\n",
        "                trace[p2 + 1][p1 + 1] = 'D'\n",
        "            elif score[p2 + 1][p1 + 1] == cima:\n",
        "                trace[p2 + 1][p1 + 1] = 'C'\n",
        "            elif score[p2 + 1][p1 + 1] == esquerda:\n",
        "                trace[p2 + 1][p1 + 1] = 'E'\n",
        "            else:\n",
        "                trace[p2 + 1][p1 + 1] = ' '  # Caso de zero, fim de uma possível sequência local\n",
        "\n",
        "    return score, trace\n",
        "\n",
        "def print_matrix(mat):\n",
        "    for linha in mat:\n",
        "        for x in linha:\n",
        "            print(f\"{x:3d}\", end = \" \")\n",
        "        print()\n",
        "\n",
        "def print_trace(mat):\n",
        "    for linha in mat:\n",
        "        print(*linha)\n",
        "\n",
        "def score(seq1, seq2, g=-8):\n",
        "    return smith_waterman(seq1, seq2, g)[-1][-1]\n",
        "\n",
        "def reconstroi_align(seq1, seq2, trace):\n",
        "    C = len(seq1)\n",
        "    L = len(seq2)\n",
        "\n",
        "    A1 = ''\n",
        "    A2 = ''\n",
        "\n",
        "    while C > 0 and L > 0 and trace[L][C] != ' ':\n",
        "        print(L, C)\n",
        "        if trace[L][C] == 'D':\n",
        "            L -= 1\n",
        "            C -= 1\n",
        "            A1 = seq1[C] + A1\n",
        "            A2 = seq2[L] + A2\n",
        "        elif trace[L][C] == 'E':\n",
        "            C -= 1\n",
        "            A1 = seq1[C] + A1\n",
        "            A2 = '-' + A2\n",
        "        elif trace[L][C] == 'C':\n",
        "            L -= 1\n",
        "            A1 = '-' + A1\n",
        "            A2 = seq2[L] + A2\n",
        "        else:\n",
        "            raise ValueError(\"Unexpected trace value\")\n",
        "    print(A1)\n",
        "    print(A2)\n",
        "    return A1, A2\n",
        "\n",
        "\n",
        "S, T = smith_waterman(seq1, seq2)\n",
        "print_matrix(S)\n",
        "print()\n",
        "print_trace(T)\n",
        "\n",
        "A1, A2 = reconstroi_align(seq1, seq2, T)\n",
        "print(\"Alinhamento final:\")\n",
        "print(A1)\n",
        "print(A2)"
      ],
      "metadata": {
        "id": "rD_t-Rsz1Czz",
        "colab": {
          "base_uri": "https://localhost:8080/"
        },
        "outputId": "78be8440-e857-4e21-8f3f-34d61960ec62"
      },
      "execution_count": 4,
      "outputs": [
        {
          "output_type": "stream",
          "name": "stdout",
          "text": [
            "  0   0   0   0   0   0   0 \n",
            "  0   4   4   0   0   4   0 \n",
            "  0   0   4   2   5   0   3 \n",
            "  0   0   0  10   2   5   0 \n",
            "  0   0   0   2  15   7   4 \n",
            "  0   4   4   0   7  19  11 \n",
            "  0   0   4   1   0  11  28 \n",
            "\n",
            "             \n",
            "  D D D D D D\n",
            "  D D D D D D\n",
            "  D D D C D  \n",
            "  D D E D C D\n",
            "  D D D E D C\n",
            "  D D D   E D\n",
            "6 6\n",
            "5 5\n",
            "4 4\n",
            "3 3\n",
            "2 2\n",
            "1 1\n",
            "AAGTAC\n",
            "ATGTAC\n",
            "Alinhamento final:\n",
            "AAGTAC\n",
            "ATGTAC\n"
          ]
        }
      ]
    },
    {
      "cell_type": "markdown",
      "source": [
        "#### **Testes de unidade**"
      ],
      "metadata": {
        "id": "-0KBjq2Z0_pk"
      }
    },
    {
      "cell_type": "code",
      "source": [
        "import unittest\n",
        "\n",
        "class TestSmithWaterman(unittest.TestCase):\n",
        "\n",
        "    def test_identical_sequences(self):\n",
        "        seq1 = \"AGT\"\n",
        "        seq2 = \"AGT\"\n",
        "        S, T = smith_waterman(seq1, seq2)\n",
        "        A1, A2 = reconstroi_align(seq1, seq2, T)\n",
        "\n",
        "        self.assertEqual(S[-1][-1], 3)  # A pontuação final deve ser 3\n",
        "        self.assertEqual(A1, \"AGT\")\n",
        "        self.assertEqual(A2, \"AGT\")\n",
        "\n",
        "    def test_single_mismatch(self):\n",
        "        seq1 = \"AGT\"\n",
        "        seq2 = \"AGC\"\n",
        "        S, T = smith_waterman(seq1, seq2)\n",
        "        A1, A2 = reconstroi_align(seq1, seq2, T)\n",
        "\n",
        "        self.assertEqual(S[-1][-1], 1)  # A pontuação final será 1 devido à substituição\n",
        "        self.assertEqual(A1, \"AG-\")\n",
        "        self.assertEqual(A2, \"AGC\")\n",
        "\n",
        "    def test_gap_in_sequence(self):\n",
        "        seq1 = \"AGT\"\n",
        "        seq2 = \"A--GT\"\n",
        "        S, T = smith_waterman(seq1, seq2)\n",
        "        A1, A2 = reconstroi_align(seq1, seq2, T)\n",
        "\n",
        "        self.assertEqual(S[-1][-1], 3)  # A pontuação final será 3\n",
        "        self.assertEqual(A1, \"AGT\")\n",
        "        self.assertEqual(A2, \"A--GT\")\n",
        "\n",
        "    def test_no_match(self):\n",
        "        seq1 = \"AGT\"\n",
        "        seq2 = \"XYZ\"\n",
        "        S, T = smith_waterman(seq1, seq2)\n",
        "        A1, A2 = reconstroi_align(seq1, seq2, T)\n",
        "\n",
        "        self.assertEqual(S[-1][-1], 0)  # A pontuação final será 0 pois não há correspondência\n",
        "        self.assertEqual(A1, \"\")\n",
        "        self.assertEqual(A2, \"\")\n",
        "\n",
        "    def test_substitution_with_gap(self):\n",
        "        seq1 = \"AGT\"\n",
        "        seq2 = \"AG-T\"\n",
        "        S, T = smith_waterman(seq1, seq2)\n",
        "        A1, A2 = reconstroi_align(seq1, seq2, T)\n",
        "\n",
        "        self.assertEqual(S[-1][-1], 3)  # A pontuação final será 3\n",
        "        self.assertEqual(A1, \"AGT\")\n",
        "        self.assertEqual(A2, \"AG-T\")\n",
        "\n",
        "if __name__ == \"__main__\":\n",
        "    unittest.main(argv=['first-arg-is-ignored'], exit=False)"
      ],
      "metadata": {
        "id": "XbY72JiA1Dj6"
      },
      "execution_count": null,
      "outputs": []
    },
    {
      "cell_type": "markdown",
      "source": [
        "# Blast"
      ],
      "metadata": {
        "id": "mGG_wOW0kif9"
      }
    },
    {
      "cell_type": "markdown",
      "source": [
        "## Descrição do algoritmo"
      ],
      "metadata": {
        "id": "oL3xQz_El2eQ"
      }
    },
    {
      "cell_type": "markdown",
      "source": [
        "O BLAST (Basic Local Alignment Search Tool) é um dos algoritmos mais utilizados atualmente para pesquisas em bases de dados de sequências biológicas. O objetivo principal do BLAST é identificar alinhamentos locais de alta qualidade entre uma sequência de consulta (query) e as sequências presentes em uma base de dados.\n",
        "O algoritmo funciona por meio de uma estratégia baseada em \"palavras\" curtas (seeds), que são subsequências extraídas da query. Essas seeds são comparadas com subsequências das sequências na base de dados para encontrar correspondências exatas ou quase exatas. Após identificar essas correspondências iniciais, o BLAST expande essas regiões em ambas as direções para formar alinhamentos maiores. O processo de expansão continua até que a pontuação do alinhamento caia abaixo de um valor pré-definido, conhecido como threshold.\n",
        "Na implementação simplificada do BLAST apresentada aqui, o processo foi dividido em quatro etapas principais, cada uma realizada por uma função específica:\n",
        "\n",
        "1.\tquery_map: Esta função realiza o mapeamento da query, gerando as seeds (subsequências) e suas posições na query.\n",
        "2.\thits: Identifica as correspondências entre as seeds da query e as subsequências da sequência alvo na base de dados.\n",
        "3.\textend_hit: Expande as correspondências identificadas pela função hits em ambas as direções, até que a pontuação do alinhamento caia abaixo do threshold.\n",
        "4.\tbest_hit: Avalia todos os alinhamentos expandidos e seleciona aquele com a melhor pontuação, representando o melhor alinhamento encontrado entre a query e a sequência da base de dados.\n"
      ],
      "metadata": {
        "id": "RFTJFeh7l8CB"
      }
    },
    {
      "cell_type": "markdown",
      "source": [
        "## Projeto de alto nível"
      ],
      "metadata": {
        "id": "tFd1HR-3mH2_"
      }
    },
    {
      "cell_type": "markdown",
      "source": [
        "**query_map**\n",
        "\n",
        "Esta função é responsável por dividir a sequência de consulta (query) em subsequências menores, chamadas de \"seeds” (ou palavras), com tamanho definido pelo parâmetro w que representa a janela de procura. Cada seed gerada é armazenada como uma chave em um dicionário, onde o valor associado a cada chave é uma lista das posições em que essa seed ocorre na sequência de consulta. Essa estrutura de dados será usada nas etapas seguintes para identificar possíveis correspondências entre a query e as sequências da base de dados.\n",
        "\n",
        "**hits**\n",
        "\n",
        "A função hits utiliza o dicionário gerado pela função query_map e uma sequência alvo para identificar correspondências (hits) entre as palavras da query e a sequência alvo. Para cada chave no dicionário, a função encontra todas as posições em que esta aparece na sequência alvo e associa essas posições às posições correspondentes na query. O resultado final é uma lista de tuplos, onde cada tuplo contém dois valores: o índice da seed na query e o índice correspondente na sequência alvo.\n",
        "\n",
        "**extend_hit**\n",
        "\n",
        "Esta função recebe a query, a sequência alvo, o hit da função hits (um par de índices iniciais na query e na sequência alvo), e o parâmetro w. A função tenta estender o hit para os dois lados (esquerda e direita), desde que a proporção de correspondências seja de pelo menos 50% do tamanho da extensão.\n",
        "A função devolve um tuplo contendo:\n",
        "1.\tO índice inicial do hit estendido na query;\n",
        "2.\tO índice inicial do hit estendido na sequência alvo;\n",
        "3.\tO tamanho total do alinhamento estendido;\n",
        "4.\tO número total de correspondências.\n",
        "\n",
        "**best_hit**\n",
        "\n",
        "A função best_hit combina as etapas anteriores para identificar o melhor alinhamento global entre a query e a sequência alvo. Ela utiliza as seeds geradas pela função query_map, identifica hits iniciais com a função hits, e expande esses hits com a função extend_hit. Entre todos os alinhamentos obtidos, é escolhido o melhor com base na maior pontuação global, que corresponde ao maior número de correspondências corretas no alinhamento estendido, se dois ou mais hits tiverem a mesma pontuação a função escolhe o que se encontra em primeiro lugar.\n",
        "\n",
        "\n"
      ],
      "metadata": {
        "id": "vwNeVZjGmPUo"
      }
    },
    {
      "cell_type": "markdown",
      "source": [
        "## Projeto de baixo nível"
      ],
      "metadata": {
        "id": "8M_A6jD2mLpR"
      }
    },
    {
      "cell_type": "markdown",
      "source": [
        "Projeto de baixo nível\n",
        "\n",
        "Função query_map\n",
        "\n",
        "Objetivo\n",
        "A função query_map tem como objetivo criar um dicionário que associa subsequências (ou \"seeds\") da query às posições em que essas subsequências aparecem na query.\n",
        "Entradas\n",
        "1.\tquery (str): A sequência de consulta (query), que será dividida em subsequências.\n",
        "2.\twindow_size (int): O tamanho da janela de procura, ou seja, o comprimento de cada subsequência (seed) gerada.\n",
        "Saída\n",
        "dict_seeds (defaultdict): Um dicionário onde:\n",
        "•\tAs chaves são todas as subsequências (seeds) de tamanho window_size encontradas na query.\n",
        "•\tOs valores são listas com as posições iniciais em que cada seed aparece na query.\n",
        "Passos Internos\n",
        "1.\tCriar um dicionário vazio (usando defaultdict) para armazenar as seeds e suas posições.\n",
        "2.\tIterar sobre a sequência seq utilizando uma janela deslizante de tamanho window_size.\n",
        "3.\tPara cada subsequência extraída:\n",
        "o\tAdicionar a subsequência como chave no dicionário.\n",
        "o\tAdicionar a posição inicial da subsequência à lista correspondente no dicionário.\n",
        "4.\tDevolver o dicionário resultoante\n",
        "Pseudocódigo\n",
        "FUNÇÃO query_map(seq, window_size):\n",
        "        Criar dicionário dict_seeds como defaultdict(lista)\n",
        "        PARA cada posição i na query até (len(query) - window_size + 1):\n",
        "                Extrair subsequência query[i : i + window_size]\n",
        "                Adicionar i na lista associada à subsequência no dicionário dict_seeds\n",
        "        Devolver dict_seeds\n",
        "\n",
        "  \n",
        "Função get_al_positions\n",
        "\n",
        "Objetivo\n",
        "A função get_all_positions localiza todas as posições iniciais de uma subsequência específica em uma sequência maior. É uma função auxiliar usada para encontrar correspondências exatas.\n",
        "A função get_all_positions é fundamental para identificar correspondências exatas entre uma subsequência da query e a sequência alvo. Ela é usada pela função hits para criar pares de correspondência.\n",
        "\n",
        "Entradas\n",
        "1.\tsubseq (str): A subsequência que se deseja localizar na sequência alvo.\n",
        "2.\tseq (str): A sequência alvo onde será feita a busca.\n",
        "Saída\n",
        "•\tpositions (list[int]): Uma lista contendo todas as posições iniciais em que a subsequência ocorre na sequência alvo.\n",
        "\n",
        "Passos Internos\n",
        "1.\tDefinir uma lista vazia para armazenar as posições encontradas.\n",
        "2.\tIterar sobre a sequência alvo com base no comprimento da subsequência.\n",
        "3.\tComparar cada subsequência extraída com subseq:\n",
        "o\tSe houver correspondência, armazenar a posição inicial.\n",
        "4.\tRetornar a lista de posições encontradas.\n",
        "\n",
        "Pseudocódigo\n",
        "\n",
        "FUNÇÃO get_all_positions(subseq, seq):\n",
        "        Criar lista vazia positions\n",
        "        PARA cada posição i em seq até (len(seq) - len(subseq) + 1):\n",
        "                Se seq[i : i + len(subseq)] for igual a subseq:\n",
        "                        Adicionar i à lista positions\n",
        "        Devolver a lista positions\n",
        "\n",
        "Função hits\n",
        "\n",
        "Objetivo\n",
        "Esta função identifica todos os pares de posições correspondentes entre as subsequências (seeds) da query e a sequência alvo. Cada seed gerada pela função query_map é comparada com todas as suas ocorrências na sequência alvo, gerando uma lista de tuplos que representam os alinhamentos iniciais (hits).\n",
        "\n",
        "Entradas\n",
        "1.\tqm (defaultdict): O dicionário gerado pela função query_map, onde:\n",
        "o\tAs chaves são as seeds extraídas da query.\n",
        "o\tOs valores são listas de posições dessas seeds na query.\n",
        "2.\tseq (str): A sequência alvo onde os hits serão buscados.\n",
        "Saídas\n",
        "•\tlist[tuple[int, int]]:\n",
        "Uma lista de tuplos, onde cada tuplo contém:\n",
        "o\tA posição inicial da seed na query (P1).\n",
        "o\tA posição inicial correspondente da mesma seed na sequência alvo (P2).\n",
        "\n",
        "Passos Internos\n",
        "1.\tDefinir uma lista vazia res para armazenar os hits encontrados.\n",
        "2.\tIterar sobre cada seed (chave) e sua lista de posições (valores) no dicionário qm.\n",
        "o\tPara cada posição da seed na query (P1), buscar todas as posições da mesma seed na sequência alvo (P2) usando a função get_all_positions.\n",
        "o\tPara cada par de posições (P1, P2), adicionar o tuplo correspondente à lista res.\n",
        "3.\tRetornar a lista res contendo todos os hits encontrados.\n",
        "\n",
        "\n",
        "Pseudocódigo\n",
        "\n",
        " FUNÇÃO hits(qm, seq):\n",
        "      hits_l ← lista vazia\n",
        "      PARA cada seed Q em qm:\n",
        "            PARA cada posição P1 em qm[Q]:  # posições da seed na query\n",
        "                  PARA cada posição P2 obtida por get_all_positions(Q, seq):  # posições da seed  \n",
        "                        Adicionar o tuplo (P1, P2) à lista hits_l\n",
        "   Devolver a lista hits_l\n",
        "\n",
        "\n",
        "Função extend_hit\n",
        "\n",
        "Objetivo\n",
        "Expandir um hit inicial (alinhamento local) entre a query e a sequência alvo. A extensão ocorre em ambas as direções (esquerda e direita), enquanto a proporção de correspondências (matches) permanece acima de 50%.\n",
        "________________________________________\n",
        "Entradas\n",
        "1.\tquery (str): A sequência de consulta (query).\n",
        "2.\tseq (str): A sequência alvo.\n",
        "3.\thit (tuple[int, int]): Um tuplo representando um alinhamento inicial (hit):\n",
        "o\tO índice inicial da seed na query.\n",
        "o\tO índice inicial correspondente na sequência alvo.\n",
        "4.\tw (int): O tamanho da seed usada no alinhamento inicial.\n",
        "________________________________________\n",
        "Saídas\n",
        "•\ttuple[int, int, int, int]: Um tuplo contendo:\n",
        "o\tO índice inicial do alinhamento estendido na query.\n",
        "o\tO índice inicial do alinhamento estendido na sequência alvo.\n",
        "o\tO comprimento total do alinhamento estendido.\n",
        "o\tO número total de correspondências (matches) no alinhamento.\n",
        "________________________________________\n",
        "\n",
        "Passos Internos\n",
        "1.\tDefinição:\n",
        "o\tCalcular os índices inicial (query_i, hit_i) e final (query_f, seq_f) do hit na query e na sequência alvo.\n",
        "o\tEstabelecer o número inicial de correspondências como o tamanho da seed (w).\n",
        "o\tDeterminar se é possível expandir para a esquerda e direita verificando os limites das sequências.\n",
        "2.\tExtensão à Esquerda:\n",
        "o\tEnquanto houver espaço para expandir para a esquerda e a proporção de matches for suficiente (≥ 50%):\n",
        "\tDiminuir os índices iniciais (query_i e hit_i).\n",
        "\tAumentar o comprimento do alinhamento.\n",
        "\tComparar os caracteres da query e da sequência alvo nas novas posições:\n",
        "\tAumentar o número de matches se os caracteres forem iguais.\n",
        "o\tAtualizar a condição de paragem.\n",
        "3.\tExtensão à Direita:\n",
        "o\tEnquanto houver espaço para expandir para a direita e a proporção de matches for suficiente (≥ 50%):\n",
        "\tAumentar os índices finais (query_f e seq_f).\n",
        "\tAumentar o comprimento do alinhamento.\n",
        "\tComparar os caracteres da query e da sequência alvo nas novas posições:\n",
        "\tAumentar o número de matches se os caracteres forem iguais.\n",
        "o\tAtualizar a condição de paragem.\n",
        "4.\tDevolver o resultado como um tuplo: os índices iniciais estendidos (query_i, hit_i), o comprimento do alinhamento estendido, e o número total de correspondências.\n",
        "________________________________________\n",
        "\n",
        "\n",
        "\n",
        "\n",
        "\n",
        "\n",
        "\n",
        "Pseudocódigo\n",
        "\n",
        "FUNÇÃO extend_hit(query, seq, hit, w):\n",
        "  Definir query_i e hit_i como os índices iniciais do hit na query e na sequência alvo,    respetivamente.\n",
        "  Definir query_f e seq_f como os índices finais do hit na query e na sequência alvo, respetivamente.\".\n",
        "        correspondencias ← w\n",
        "        extensao ← w\n",
        "                Enquanto for possível expandir para a esquerda E correspondencias ≥ extensao / 2:\n",
        "                                Diminuir query_i e hit_i.\n",
        "                                Aumentar extensao.\n",
        "                                Se query[query_i] == seq[hit_i]:\n",
        "                                            Aumentar correspondencias.\n",
        "\n",
        "            Enquanto for possível expandir para a direita E correspondencias ≥ extensao / 2:\n",
        "                                Aumentar query_f e seq_f.\n",
        "                                Aumentar extensao.\n",
        "                                Se query[query_f] == seq[seq_f]:\n",
        "                                            Aumentar correspondencias.\n",
        "\n",
        "            Devolver (query_i, hit_i, query_f - query_i + 1, correspondencias)\n",
        "\n",
        "\n",
        "---\n",
        "\n",
        "Função best_hit\n",
        "Objetivo\n",
        "Identificar o melhor alinhamento entre uma query e uma sequência alvo. A função utiliza os resultados das funções query_map, hits e extend_hit para encontrar e avaliar alinhamentos locais. O melhor alinhamento é aquele com o maior número de correspondências (matches).\n",
        "________________________________________\n",
        "Entradas\n",
        "1.\tquery (str): A sequência de consulta, que representa o padrão a ser alinhado.\n",
        "2.\tseq (str): A sequência alvo, onde buscamos os melhores alinhamentos.\n",
        "3.\tw (int): O tamanho da janela de procura, que determina o comprimento das seeds iniciais geradas.\n",
        "________________________________________\n",
        "\n",
        "\n",
        "Saídas\n",
        "tuple[int, int, int, int]: Um tuplo contendo:\n",
        "1.\tÍndice inicial na query: A posição inicial do melhor alinhamento na query.\n",
        "2.\tÍndice inicial na sequência: A posição inicial do melhor alinhamento na sequência alvo.\n",
        "3.\tTamanho do alinhamento: O comprimento do melhor alinhamento encontrado.\n",
        "4.\tNúmero de correspondências: A contagem de matches corretos no melhor alinhamento.\n",
        "________________________________________\n",
        "Passos Internos\n",
        "1. Gerar o mapa de seeds\n",
        "•\tA função utiliza query_map para gerar um dicionário que mapeia as subsequências (seeds) da query e suas posições.\n",
        "o\tEntrada: A query e o tamanho da janela (w).\n",
        "o\tSaída: Um dicionário contendo cada seed como chave e as posições correspondentes como valores.\n",
        "2. Encontrar hits iniciais\n",
        "•\tCom o dicionário gerado, a função chama hits para identificar todos os pares de posições correspondentes entre as seeds da query e a sequência alvo.\n",
        "o\tEntrada: O dicionário de seeds e a sequência alvo.\n",
        "o\tSaída: Uma lista de tuplos, onde cada tuplo contém a posição de uma seed na query e na sequência alvo.\n",
        "3. Avaliar cada hit\n",
        "•\tPara cada hit da lista, a função chama extend_hit para expandi-lo, calculando o alinhamento completo.\n",
        "o\tEntrada: A query, a sequência alvo, o hit inicial e o tamanho da janela.\n",
        "o\tSaída: Um tuplo contendo os índices iniciais, o tamanho do alinhamento e o número total de correspondências.\n",
        "4. Escolher o melhor hit\n",
        "•\tA função utiliza a função embutida max para selecionar o alinhamento com o maior número de correspondências.\n",
        "o\tCritério de desempate: Se dois hits tiverem o mesmo número de correspondências, o primeiro hit encontrado é priorizado.\n",
        "o\tEntrada: A lista de hits estendidos.\n",
        "o\tSaída: O melhor alinhamento representado por um tuplo com as informações do índice inicial, tamanho do alinhamento e número de matches.\n",
        "________________________________________\n",
        "Resumo do Funcionamento\n",
        "A função best_hit combina as etapas principais do algoritmo BLAST:\n",
        "1.\tGera seeds da query (query_map).\n",
        "2.\tEncontra hits iniciais entre a query e a sequência alvo (hits).\n",
        "3.\tExpande cada hit para maximizar o alinhamento (extend_hit).\n",
        "4.\tSeleciona o melhor alinhamento com base no número de correspondências.\n",
        "Esta função sintetiza todo o processo e retorna o resultado final do alinhamento, que pode ser utilizado para análise biológica detalhada.\n"
      ],
      "metadata": {
        "id": "YLSXPPuemP4J"
      }
    },
    {
      "cell_type": "markdown",
      "source": [
        "## Implementação"
      ],
      "metadata": {
        "id": "Siij1kotlwyC"
      }
    },
    {
      "cell_type": "code",
      "source": [
        "from collections import defaultdict\n",
        "\n",
        "def query_map(query, window_size):\n",
        "    \"\"\"\n",
        "    Divide uma sequência em subsequências de tamanho fixo (seeds) e armazena as suas posições.\n",
        "    Cada subsequência (seed) da query é usada como chave em um dicionário, e as posições\n",
        "    em que a seed aparece na query são armazenadas em uma lista associada a essa chave.\n",
        "\n",
        "    Args:\n",
        "        seq (str): A sequência de consulta (query).\n",
        "        window_size (int): O tamanho da janela de procura.\n",
        "\n",
        "    Returns:\n",
        "        dict : str, list[int]:\n",
        "            Um dicionário onde as chaves são as seeds e os valores são listas com as posições em que cada seed ocorre na query.\n",
        "            - chaves: são todas as subsequências (seeds) de tamanho w encontradas na query\n",
        "            - valores: listas com todos as posições onde as seeds aparecem na query\n",
        "    \"\"\"\n",
        "    if not isinstance(query, str):\n",
        "        raise TypeError(\"A sequência deve ser uma string.\")\n",
        "    if not query.isalpha():\n",
        "        raise ValueError(\"A sequência não pode conter caracteres inválidos.\")\n",
        "    if \" \" in query:\n",
        "        raise ValueError(\"A sequência não pode conter espaços em branco.\")\n",
        "    if not isinstance(window_size, int) or window_size <= 0:\n",
        "        raise ValueError(\"A janela de procura deve ser um número inteiro positivo.\")\n",
        "    if len(query) == 0:\n",
        "        raise ValueError(\"A sequência não pode ser vazia.\")\n",
        "\n",
        "    dict_seed = defaultdict(list)\n",
        "    size = len(query)\n",
        "    for position in range(size - window_size + 1):\n",
        "        seed = query[position : position + window_size]\n",
        "        dict_seed[seed].append(position)\n",
        "    return dict_seed\n",
        "\n",
        "\n",
        "def get_all_positions(subseq, seq):\n",
        "    \"\"\"\n",
        "    Encontra todas as posições em que uma subsequência ocorre em uma sequência maior.\n",
        "\n",
        "    Args:\n",
        "        subseq (str): A subsequência (seed) a ser procurada.\n",
        "        seq (str): A sequência alvo onde a busca será realizada.\n",
        "\n",
        "    Returns:\n",
        "        list[int]: Uma lista de posições iniciais em que a subsequência ocorre na sequência alvo.\n",
        "    \"\"\"\n",
        "    return [P for P in range(len(seq) - len(subseq) + 1) if seq[P : P + len(subseq)] == subseq]\n",
        "\n",
        "\n",
        "def hits(qm, seq):\n",
        "    \"\"\"\n",
        "    Identifica correspondências entre as seeds da query e a sequência alvo.\n",
        "    Para cada seed gerada pela função `query_map`, a função encontra todas as\n",
        "    posições correspondentes na sequência alvo.\n",
        "\n",
        "    Args:\n",
        "        qm (defaultdict): O dicionário gerado pela função `query_map` contendo as seeds e suas respectivas posições na query.\n",
        "        seq (str): A sequência alvo onde as correspondências serão buscadas.\n",
        "\n",
        "    Returns:\n",
        "        list[tuple[int, int]]: Uma lista de tuplos, onde cada tuplo contém:\n",
        "            - A posição inicial da seed na query;\n",
        "            - A posição inicial correspondente na sequência alvo.\n",
        "    \"\"\"\n",
        "    if not isinstance(seq, str):\n",
        "        raise TypeError(\"A sequência deve ser uma string.\")\n",
        "    if not seq.isalpha():\n",
        "        raise ValueError(\"A sequência não pode conter caracteres inválidos.\")\n",
        "    if seq == \"\":\n",
        "        raise ValueError(\"A sequência não pode ser vazia.\")\n",
        "    if len(seq) == 0:\n",
        "        raise ValueError(\"A sequência não pode ser vazia.\")\n",
        "    if not seq.isalpha():\n",
        "        raise ValueError(\"A sequência não pode conter caracteres inválidos.\")\n",
        "    if \" \" in seq:\n",
        "        raise ValueError(\"A sequência não pode conter espaços em branco.\")\n",
        "\n",
        "\n",
        "    hits_l = []\n",
        "    for Q, LstPos in qm.items():\n",
        "        for P1 in LstPos:\n",
        "            for P2 in get_all_positions(Q, seq):\n",
        "                hits_l.append((P1, P2))\n",
        "    return hits_l\n",
        "\n",
        "\n",
        "def extend_hit(query, seq, hit, w):\n",
        "    \"\"\"\n",
        "    Esta função recebe uma query, uma sequência alvo, um hit e um tamanho de janela,\n",
        "    e estende o hit na sequência até que não seja possível mais, mantendo um número mínimo de matches.\n",
        "\n",
        "    Args:\n",
        "        query (str): A sequência de consulta (query).\n",
        "        seq (str): A sequência alvo.\n",
        "        hit (tuple[int, int]): Uma tupla contendo os índices iniciais do hit na query e na sequência alvo.\n",
        "        w (int): O tamanho da janela de procura.\n",
        "\n",
        "    Returns:\n",
        "        tuple[int, int, int, int]: Um tuplo contendo:\n",
        "            - O índice inicial do hit estendido na query;\n",
        "            - O índice inicial do hit estendido na sequência alvo;\n",
        "            - O tamanho do alinhamento estendido;\n",
        "            - O número total de correspondências no alinhamento estendido.\n",
        "    \"\"\"\n",
        "    if not isinstance(query, str):\n",
        "      raise TypeError(\"A sequência deve ser uma string\")\n",
        "    if not query.isalpha():\n",
        "      raise ValueError(\"A query não pode conter caracteres inválidos.\")\n",
        "    if not seq.isalpha():\n",
        "      raise ValueError(\"A sequência não pode conter caracteres inválidos.\")\n",
        "    if len(query) == 0 or len(seq) == 0:\n",
        "      raise ValueError(\"A sequência não pode ser vazia\")\n",
        "    if not isinstance(seq, str):\n",
        "      raise TypeError(\"A sequência deve ser uma string\")\n",
        "    if not isinstance(w, int) or w <= 0:\n",
        "      raise ValueError(\"O tamanho da janela deve ser um inteiro positivo\")\n",
        "\n",
        "    query_i = hit[0]\n",
        "    hit_i = hit[1]\n",
        "    query_f = hit[0] + w - 1\n",
        "    seq_f = hit[1] + w - 1\n",
        "\n",
        "    correspondencias = w\n",
        "    extensao = w\n",
        "    espaço_esquerda = query_i > 0 and hit_i > 0\n",
        "    espaço_direita = query_f < len(query) - 1 and seq_f < len(seq) - 1\n",
        "\n",
        "    while correspondencias >= extensao / 2 and espaço_esquerda:\n",
        "        query_i -= 1\n",
        "        hit_i -= 1\n",
        "        extensao += 1\n",
        "        if query[query_i] == seq[hit_i]:\n",
        "            correspondencias += 1\n",
        "        espaço_esquerda = query_i > 0 and hit_i > 0\n",
        "\n",
        "    while correspondencias >= extensao / 2 and espaço_direita:\n",
        "        query_f += 1\n",
        "        seq_f += 1\n",
        "        extensao += 1\n",
        "        if query[query_f] == seq[seq_f]:\n",
        "            correspondencias += 1\n",
        "        espaço_direita = query_f < len(query) - 1 and seq_f < len(seq) - 1\n",
        "\n",
        "    return (query_i, hit_i, query_f - query_i + 1, correspondencias)\n",
        "\n",
        "\n",
        "def best_hit(query: str, seq: str, w: int) -> tuple[int, int, int, int]:\n",
        "    \"\"\"\n",
        "    Identifica o melhor alinhamento entre uma query e uma sequência alvo.\n",
        "    A função utiliza as funções `query_map`, `hits`, e `extend_hit` para encontrar\n",
        "    e avaliar alinhamentos locais entre a query e a sequência alvo. O melhor alinhamento\n",
        "    é determinado com base no maior número de correspondências (matches).\n",
        "\n",
        "    Args:\n",
        "        query (str): A sequência de consulta (query).\n",
        "        seq (str): A sequência alvo.\n",
        "        w (int): O tamanho da janela de procura.\n",
        "\n",
        "    Returns:\n",
        "        tuple[int, int, int, int]: Uma tupla contendo:\n",
        "            - O índice inicial do melhor hit na query;\n",
        "            - O índice inicial do melhor hit na sequência alvo;\n",
        "            - O tamanho do alinhamento do melhor hit;\n",
        "            - O número total de correspondências no melhor hit.\n",
        "    \"\"\"\n",
        "    if not isinstance(query, str):\n",
        "      raise TypeError(\"A sequência deve ser uma string\")\n",
        "    if not isinstance(seq, str):\n",
        "      raise TypeError(\"A sequência deve ser uma string\")\n",
        "    if not isinstance(w, int) or w <= 0:\n",
        "      raise ValueError(\"O tamanho da janela deve ser um inteiro positivo\")\n",
        "\n",
        "    qm = query_map(query, w)\n",
        "    hits_list = hits(qm, seq)\n",
        "\n",
        "    def hit_score(hit):\n",
        "        extended_hit = extend_hit(query, seq, hit, w)\n",
        "        return extended_hit[3], -hits_list.index(hit), extended_hit\n",
        "\n",
        "    _, _, best_hit_result = max((hit_score(hit) for hit in hits_list), default=(0, 0, None))\n",
        "    return best_hit_result\n"
      ],
      "metadata": {
        "id": "rW8egUOHg8gd"
      },
      "execution_count": null,
      "outputs": []
    },
    {
      "cell_type": "code",
      "source": [
        "#Teste\n",
        "query = \"AATATAT\"\n",
        "seq = \"AATATGTTATATAATAATATTT\"\n",
        "w = 3\n",
        "best_hit(query, seq, w)"
      ],
      "metadata": {
        "colab": {
          "base_uri": "https://localhost:8080/"
        },
        "id": "qiYGBJmjkh-N",
        "outputId": "f50d9e5b-5b1a-4e2f-82a8-9dd42771ab5a"
      },
      "execution_count": null,
      "outputs": [
        {
          "output_type": "execute_result",
          "data": {
            "text/plain": [
              "(0, 0, 7, 6)"
            ]
          },
          "metadata": {},
          "execution_count": 5
        }
      ]
    },
    {
      "cell_type": "markdown",
      "source": [
        "## Testes de unidade"
      ],
      "metadata": {
        "id": "0SugVc52ksnl"
      }
    },
    {
      "cell_type": "markdown",
      "source": [
        "### Query_map"
      ],
      "metadata": {
        "id": "_C5RvzdQLZSy"
      }
    },
    {
      "cell_type": "code",
      "source": [
        "import unittest\n",
        "\n",
        "class TestBlast(unittest.TestCase):\n",
        "    def test_query_map_vazia(self):\n",
        "        # Testa se a função lança um erro ao receber uma sequência vazia\n",
        "        with self.assertRaises(ValueError):\n",
        "            query_map(\"\", 3)\n",
        "\n",
        "    def espaço(self):\n",
        "      with self.assertRaises(ValueError):\n",
        "          query_map(\"ATC G\", 3)  # Testa espaços em branco\n",
        "\n",
        "    def test_query_map_w_negativo(self):\n",
        "        # Testa se a função lança um erro ao receber um valor negativo para w\n",
        "        with self.assertRaises(ValueError):\n",
        "            query_map(\"ACT\", -3)\n",
        "\n",
        "    def test_query_map_w_number(self):\n",
        "        # Testa se a função lança um erro ao receber um valor não string para a query\n",
        "        with self.assertRaises(TypeError):\n",
        "            query_map(66//5, \"3\")\n",
        "\n",
        "    def test_query_map_output(self):\n",
        "        # Testa se a função dá o resultado esperado\n",
        "        output = {'ATG': [0], 'TGC': [1], 'GCG': [2], 'CGG': [3], 'GGT': [4]}\n",
        "        self.assertEqual(query_map(\"ATGCGGT\", 3), output)\n",
        "\n",
        "    def test_query_map_output_false(self):\n",
        "        # Testa se a função dá o erro para o resultado não esperado para esses parâmetros\n",
        "        output = {'AAT': [0], 'ATA': [1, 4], 'TAT': [2, 3]}\n",
        "        self.assertFalse(query_map(\"AATATAT\", 3) == output)\n",
        "\n",
        "suite = unittest.TestLoader().loadTestsFromTestCase(TestBlast)\n",
        "unittest.TextTestRunner(verbosity=3).run(suite)"
      ],
      "metadata": {
        "id": "i2vACZDjYEiQ",
        "colab": {
          "base_uri": "https://localhost:8080/"
        },
        "collapsed": true,
        "outputId": "f703d1a7-6ac9-418a-afdb-5de163af4873"
      },
      "execution_count": null,
      "outputs": [
        {
          "output_type": "stream",
          "name": "stderr",
          "text": [
            "test_query_map_output (__main__.TestBlast.test_query_map_output) ... ok\n",
            "test_query_map_output_false (__main__.TestBlast.test_query_map_output_false) ... ok\n",
            "test_query_map_vazia (__main__.TestBlast.test_query_map_vazia) ... ok\n",
            "test_query_map_w_negativo (__main__.TestBlast.test_query_map_w_negativo) ... ok\n",
            "test_query_map_w_number (__main__.TestBlast.test_query_map_w_number) ... ok\n",
            "\n",
            "----------------------------------------------------------------------\n",
            "Ran 5 tests in 0.019s\n",
            "\n",
            "OK\n"
          ]
        },
        {
          "output_type": "execute_result",
          "data": {
            "text/plain": [
              "<unittest.runner.TextTestResult run=5 errors=0 failures=0>"
            ]
          },
          "metadata": {},
          "execution_count": 13
        }
      ]
    },
    {
      "cell_type": "markdown",
      "source": [
        "### hits"
      ],
      "metadata": {
        "id": "1BkFv28aLiyo"
      }
    },
    {
      "cell_type": "code",
      "source": [
        "qm = query_map(\"AATATAT\", 3)\n",
        "class TestBlast(unittest.TestCase):\n",
        "    def test_hit_vazia(self):\n",
        "        # Testa se a função lança um erro ao receber uma sequência vazia\n",
        "        with self.assertRaises(ValueError):\n",
        "            hits(qm, \"\")\n",
        "\n",
        "    def test_hit_w_number(self):\n",
        "        # Testa se a função lança um erro ao receber um valor não string para a sequência\n",
        "        with self.assertRaises(TypeError):\n",
        "            hits(qm, 34)\n",
        "\n",
        "    def test_hit_invalida(self):\n",
        "        # Testa se a função lança um erro ao receber uma sequência com carateres inválidas\n",
        "        with self.assertRaises(ValueError):\n",
        "            hits(qm, \"3%$&/sw\")\n",
        "\n",
        "    def test_hit_output(self):\n",
        "        # Testa se a função dá o resultado esperado para esses parâmetros\n",
        "        q = query_map(\"AATATAT\", 3)\n",
        "        output = [(0, 0), (0, 12), (0, 15), (1, 1), (1, 8), (1, 10), (1, 13), (1, 16), (3, 1), (3, 8), (3, 10), (3, 13), (3, 16), (2, 2), (2, 7), (2, 9), (2, 17), (4, 2), (4, 7), (4, 9), (4, 17)]\n",
        "        self.assertEqual(hits(q, \"AATATGTTATATAATAATATTT\"), output)\n",
        "\n",
        "    def test_hit_output_false(self):\n",
        "        # Testa se a função dá o erro para o resultado não esperado para esses parâmetros\n",
        "        output = [(0, 0), (0, 12), (0, 11), (1, 1), (1, 9), (1, 7), (1, 13), (1, 16), (3, 1), (3, 8), (3, 10), (3, 13), (3, 16), (2, 2), (2, 7), (2, 9), (2, 17), (4, 2), (4, 7), (4, 9), (4, 17)]\n",
        "        q = query_map(\"AATATAT\", 3)\n",
        "        self.assertFalse(hits(q, \"AATATGTTATATAATAATATTT\") == output)\n",
        "\n",
        "suite = unittest.TestLoader().loadTestsFromTestCase(TestBlast)\n",
        "unittest.TextTestRunner(verbosity=3).run(suite)"
      ],
      "metadata": {
        "colab": {
          "base_uri": "https://localhost:8080/"
        },
        "id": "JaPpV9qGLoww",
        "outputId": "f17192d9-2337-42ef-f18e-05064e5b14c1"
      },
      "execution_count": null,
      "outputs": [
        {
          "output_type": "stream",
          "name": "stderr",
          "text": [
            "test_hit_invalida (__main__.TestBlast.test_hit_invalida) ... ok\n",
            "test_hit_output (__main__.TestBlast.test_hit_output) ... ok\n",
            "test_hit_output_false (__main__.TestBlast.test_hit_output_false) ... ok\n",
            "test_hit_vazia (__main__.TestBlast.test_hit_vazia) ... ok\n",
            "test_hit_w_number (__main__.TestBlast.test_hit_w_number) ... ok\n",
            "\n",
            "----------------------------------------------------------------------\n",
            "Ran 5 tests in 0.016s\n",
            "\n",
            "OK\n"
          ]
        },
        {
          "output_type": "execute_result",
          "data": {
            "text/plain": [
              "<unittest.runner.TextTestResult run=5 errors=0 failures=0>"
            ]
          },
          "metadata": {},
          "execution_count": 19
        }
      ]
    },
    {
      "cell_type": "markdown",
      "source": [
        "### extend_hits"
      ],
      "metadata": {
        "id": "zRVdj6liLwCI"
      }
    },
    {
      "cell_type": "code",
      "source": [
        "class TestBlast(unittest.TestCase):\n",
        "    def test_extend_hit_seq_vazia(self):\n",
        "        # Testa se a função lança um erro ao receber uma sequência vazia\n",
        "        with self.assertRaises(ValueError):\n",
        "            extend_hit(\"AATATAT\", \"\", (0, 12), 3)\n",
        "\n",
        "    def test_extend_hit_query_vazia(self):\n",
        "        # Testa se a função lança um erro ao receber uma query vazia\n",
        "        with self.assertRaises(ValueError):\n",
        "            extend_hit(\"\", \"AATATGTTATATAATAATATTT\", (0, 12), 3)\n",
        "\n",
        "    def test_extend_hit_w_negativo(self):\n",
        "        # Testa se a função lança um erro ao receber um valor negativo para w\n",
        "        with self.assertRaises(ValueError):\n",
        "            extend_hit(\"AATATAT\", \"AATATGTTATATAATAATATTT\", (0, 12), -9)\n",
        "\n",
        "    def test_extend_hit_w_number_query(self):\n",
        "        # Testa se a função lança um erro ao receber um valor não string para a query\n",
        "        with self.assertRaises(TypeError):\n",
        "            extend_hit(33, \"AATATGTTATATAATAATATTT\", (0, 12), 3)\n",
        "\n",
        "    def test_extend_hit_seq_invalida(self):\n",
        "        # Testa se a função lança um erro ao receber uma sequência com letras inválidas\n",
        "        with self.assertRaises(ValueError):\n",
        "            extend_hit(\"AATATAT\", \"SW/iopgF\", (0, 12), 3)\n",
        "\n",
        "    def test_extend_hit_query_invalida(self):\n",
        "        # Testa se a função lança um erro ao receber uma query com letras inválidas\n",
        "        with self.assertRaises(ValueError):\n",
        "            extend_hit(\"qwi//ofgr\", \"AATATGTTATATAATAATATTT\", (0, 12), 3)\n",
        "\n",
        "    def test_extend_hit_output(self):\n",
        "        # Testa se a função dá o resultado esperado para esses parâmetros\n",
        "        output = (0, 12, 7, 4)\n",
        "        self.assertEqual(extend_hit(\"AATATAT\", \"AATATGTTATATAATAATATTT\", (0, 12), 3), output)\n",
        "\n",
        "    def test_extend_hit_output_false(self):\n",
        "        # Testa se a função dá erro para o resultado não esperado para esses parâmetros\n",
        "        output = (0, 12, 4, 3)\n",
        "        self.assertFalse(extend_hit(\"AATATAT\", \"AATATGTTATATAATAATATTT\", (0, 12), 3) == output)\n",
        "\n",
        "suite = unittest.TestLoader().loadTestsFromTestCase(TestBlast)\n",
        "unittest.TextTestRunner(verbosity=3).run(suite)"
      ],
      "metadata": {
        "colab": {
          "base_uri": "https://localhost:8080/"
        },
        "id": "CyE1mol1Lywg",
        "outputId": "b272d9d5-9133-4135-fa2c-9f41d8f8aa32"
      },
      "execution_count": null,
      "outputs": [
        {
          "output_type": "stream",
          "name": "stderr",
          "text": [
            "test_extend_hit_output (__main__.TestBlast.test_extend_hit_output) ... ok\n",
            "test_extend_hit_output_false (__main__.TestBlast.test_extend_hit_output_false) ... ok\n",
            "test_extend_hit_query_invalida (__main__.TestBlast.test_extend_hit_query_invalida) ... ok\n",
            "test_extend_hit_query_vazia (__main__.TestBlast.test_extend_hit_query_vazia) ... ok\n",
            "test_extend_hit_seq_invalida (__main__.TestBlast.test_extend_hit_seq_invalida) ... ok\n",
            "test_extend_hit_seq_vazia (__main__.TestBlast.test_extend_hit_seq_vazia) ... ok\n",
            "test_extend_hit_w_negativo (__main__.TestBlast.test_extend_hit_w_negativo) ... ok\n",
            "test_extend_hit_w_number_query (__main__.TestBlast.test_extend_hit_w_number_query) ... ok\n",
            "\n",
            "----------------------------------------------------------------------\n",
            "Ran 8 tests in 0.049s\n",
            "\n",
            "OK\n"
          ]
        },
        {
          "output_type": "execute_result",
          "data": {
            "text/plain": [
              "<unittest.runner.TextTestResult run=8 errors=0 failures=0>"
            ]
          },
          "metadata": {},
          "execution_count": 29
        }
      ]
    },
    {
      "cell_type": "markdown",
      "source": [
        "### best_hit"
      ],
      "metadata": {
        "id": "3AlnhbqSL433"
      }
    },
    {
      "cell_type": "code",
      "source": [
        "class TestBlast(unittest.TestCase):\n",
        "    def test_best_hit_seq_vazia(self):\n",
        "        # Testa se a função lança um erro ao receber uma sequência vazia\n",
        "        with self.assertRaises(ValueError):\n",
        "            best_hit(\"AATATAT\", \"\", 3)\n",
        "\n",
        "    def test_best_hit_query_vazia(self):\n",
        "        # Testa se a função lança um erro ao receber uma query vazia\n",
        "        with self.assertRaises(ValueError):\n",
        "            best_hit(\"\", \"AATATGTTATATAATAATATTT\", 3)\n",
        "\n",
        "    def test_best_hit_w_negativo(self):\n",
        "        # Testa se a função lança um erro ao receber um valor negativo para w\n",
        "        with self.assertRaises(ValueError):\n",
        "            best_hit(\"AATATAT\", \"AATATGTTATATAATAATATTT\", -3)\n",
        "\n",
        "    def test_best_hit_w_number_seq(self):\n",
        "        # Testa se a função lança um erro ao receber um valor não string para a sequência\n",
        "        with self.assertRaises(TypeError):\n",
        "            best_hit(\"AATATAT\", 33, 3)\n",
        "\n",
        "    def test_best_hit_w_number_query(self):\n",
        "        # Testa se a função lança um erro ao receber um valor não string para a query\n",
        "        with self.assertRaises(TypeError):\n",
        "            best_hit(33, \"AATATGTTATATAATAATATTT\", 3)\n",
        "\n",
        "    def test_best_hit_seq_invalida(self):\n",
        "        # Testa se a função lança um erro ao receber uma sequência com letras inválidas\n",
        "        with self.assertRaises(ValueError):\n",
        "            best_hit(\"AATATAT\", \"SWiop1gF\", 3)\n",
        "\n",
        "    def test_best_hit_query_invalida(self):\n",
        "        # Testa se a função lança um erro ao receber uma query com letras inválidas\n",
        "        with self.assertRaises(ValueError):\n",
        "            best_hit(\"qw/iofgr\", \"AATATGTTATATAATAATATTT\", 3)\n",
        "\n",
        "    def test_best_hit_output(self):\n",
        "        # Testa se a função dá o resultado esperado para esses parâmetros\n",
        "        output = (0, 0, 7, 6)\n",
        "        self.assertEqual(best_hit(\"AATATAT\", \"AATATGTTATATAATAATATTT\", 3), output)\n",
        "\n",
        "    def test_best_hit_output_false(self):\n",
        "        # Testa se a função dá erro para o resultado não esperado para esses parâmetros\n",
        "        output = (0, 0, 5, 6)\n",
        "        self.assertFalse(best_hit(\"AATATAT\", \"AATATGTTATATAATAATATTT\", 3) == output)\n",
        "\n",
        "suite = unittest.TestLoader().loadTestsFromTestCase(TestBlast)\n",
        "unittest.TextTestRunner(verbosity=3).run(suite)"
      ],
      "metadata": {
        "colab": {
          "base_uri": "https://localhost:8080/"
        },
        "id": "4tgknkmIL4bY",
        "outputId": "e5cac212-2d3a-4d13-f2a4-7d28122a4402"
      },
      "execution_count": null,
      "outputs": [
        {
          "output_type": "stream",
          "name": "stderr",
          "text": [
            "test_best_hit_output (__main__.TestBlast.test_best_hit_output) ... ok\n",
            "test_best_hit_output_false (__main__.TestBlast.test_best_hit_output_false) ... ok\n",
            "test_best_hit_query_invalida (__main__.TestBlast.test_best_hit_query_invalida) ... ok\n",
            "test_best_hit_query_vazia (__main__.TestBlast.test_best_hit_query_vazia) ... ok\n",
            "test_best_hit_seq_invalida (__main__.TestBlast.test_best_hit_seq_invalida) ... ok\n",
            "test_best_hit_seq_vazia (__main__.TestBlast.test_best_hit_seq_vazia) ... ok\n",
            "test_best_hit_w_negativo (__main__.TestBlast.test_best_hit_w_negativo) ... ok\n",
            "test_best_hit_w_number_query (__main__.TestBlast.test_best_hit_w_number_query) ... ok\n",
            "test_best_hit_w_number_seq (__main__.TestBlast.test_best_hit_w_number_seq) ... ok\n",
            "\n",
            "----------------------------------------------------------------------\n",
            "Ran 9 tests in 0.031s\n",
            "\n",
            "OK\n"
          ]
        },
        {
          "output_type": "execute_result",
          "data": {
            "text/plain": [
              "<unittest.runner.TextTestResult run=9 errors=0 failures=0>"
            ]
          },
          "metadata": {},
          "execution_count": 49
        }
      ]
    },
    {
      "cell_type": "markdown",
      "source": [
        "# Motifs"
      ],
      "metadata": {
        "id": "6C1rvTQ5ksdJ"
      }
    },
    {
      "cell_type": "markdown",
      "source": [
        "#Descrição do algoritmo\n",
        "O algoritmo analisa sequências de DNA (ou proteínas) para encontrar motifs mais prováveis numa sequência alvo com base numa PWM (Position Weight Matrix), posteriormente converte os valores da PWM para PSSM (Position Specific Scoring Matrix) e irá funcionar em quatro etapas principais:\n",
        "\n",
        "###1) Construção da tabela de contagens\n",
        "O algoritmo conta a ocorrência de cada base em cada posição das sequências fornecidas. Para garantir que não haja problemas com valores nulos é aplicada uma pseudocontagem somando um valor mínimo a todas as contagens.\n",
        "###2) Normalização para PWM\n",
        "A tabela de contagens gerada é transformada numa PWM, onde as contagens são convertidas em probabilidades. Cada posição da matriz representa a probabilidade de ocorrência de uma base específica (A, C, G, T) naquela posição das sequências, levando em consideração a totalidade das sequências fornecidas.\n",
        "###3) Cálculo da PSSM\n",
        "A partir da PWM é calculada a PSSM. A PSSM representa o logaritmo da razão entre a probabilidade observada de cada símbolo numa posição (como calculado na PWM) e a frequência de fundo esperada para aquele símbolo, utilizando logaritmos de base 2. A PSSM transforma a PWM numa métrica de score, onde valores positivos indicam que uma base é mais provável do que a frequência de fundo, e valores negativos indicam o oposto.\n",
        "###4) Procura do Motivo Mais Provável\n",
        "Com a PWM e PSSM calculadas, o algoritmo percorre a sequência alvo para identificar as subsequências de comprimento igual ao da PWM ou PSSM. Para cada subsequência, o algoritmo calcula sua probabilidade ou score, dependendo se utiliza a PWM ou a PSSM. As subsequências com as maiores probabilidades (PWM) ou maiores scores (PSSM) são consideradas como os motifs mais prováveis na sequência alvo.\n",
        "\n",
        "Esse processo permite que o algoritmo identifique com precisão as regiões da sequência alvo que mais se assemelham aos motivos de interesse, utilizando tanto a PWM para avaliar probabilidades como a PSSM para avaliar scores com base na razão das probabilidades, ajustada à frequência de fundo."
      ],
      "metadata": {
        "id": "4SOrw2vjU_jA"
      }
    },
    {
      "cell_type": "markdown",
      "source": [
        "#Descrição de alto nível\n",
        "\n",
        "##Input:\n",
        "\n",
        "**Conjunto de Sequências:** Um conjunto de sequências biológicas que são utilizadas para construir a PWM (Position Weight Matrix).\n",
        "\n",
        "**Sequência Alvo:** A sequência na qual o motif mais provável será procurado.\n",
        "\n",
        "**Parâmetros Opcionais:** Pseudocontagem, que ajuda a evitar valores nulos nas matrizes.\n",
        "\n",
        "##Processo:\n",
        "\n",
        "**Construção da Tabela de Contagens:**\n",
        "A função recebe as sequências e calcula a ocorrência de cada base em cada posição nas sequências. Uma pseudocontagem pode ser somada para evitar zero como valor inicial em qualquer posição da matriz de contagens.\n",
        "\n",
        "**Geração da PWM:** A PWM é gerada a partir da tabela de contagens. As frequências observadas para cada base nas diferentes posições das sequências são normalizadas, o que resulta numa matriz de probabilidades de cada base para cada posição.\n",
        "\n",
        "**Cálculo da PSSM:** A PSSM (Position Specific Scoring Matrix) é gerada a partir da PWM. Utilizando o logaritmo da razão entre a probabilidade observada e a probabilidade esperada (background), a PSSM fornece uma medida de \"afinidade\" de cada base para cada posição, usando uma escala logarítmica.\n",
        "\n",
        "**Cálculo das Probabilidades e Scores de Subsequentemente:** Para cada subsequência da sequência alvo com o mesmo comprimento da PWM ou PSSM, calculam-se as probabilidades (para PWM) ou os scores (para PSSM) correspondentes.\n",
        "\n",
        "**Identificação dos Motifs Mais Prováveis:** A subsequência com a maior probabilidade ou score será considerada o motif mais provável. O código identifica essas subsequências ao avaliar todas as subsequências possíveis, comparando suas probabilidades (PWM) ou scores (PSSM), e retorna as subsequências que apresentam os maiores valores.\n",
        "\n",
        "##Saída:\n",
        "\n",
        "**Matriz PWM:** A Position Weight Matrix, que contém as probabilidades normalizadas de cada base para cada posição das sequências.\n",
        "\n",
        "**Matriz PSSM:** A Position Specific Scoring Matrix, que contém os scores logaritmos baseados nas probabilidades da PWM.\n",
        "\n",
        "**Motif(s) Mais Provável(eis):** A(s) subsequência(s) mais provável(is) encontrada(s) na sequência alvo com base na PWM e/ou PSSM"
      ],
      "metadata": {
        "id": "riSegLhlpm7w"
      }
    },
    {
      "cell_type": "code",
      "source": [
        "import math\n",
        "import re\n",
        "\n",
        "seqs = ['ATTGACTGACTA','ATCGTGACTGAC','ATTGACTGACTC','TGACTGACACTC']\n",
        "\n",
        "'''Recebe as sequências e um alfabeto. Para cada posição nas sequências, conta a ocorrência de cada símbolo, somando a pseudocontagem.'''\n",
        "def tabela_contagens(seqs, alfabeto = \"ACGT\", pseudocontagem = 1):\n",
        "    for seq in seqs:\n",
        "        for base in seq:\n",
        "            if base not in alfabeto:\n",
        "                raise AssertionError(f\"Caractere inválido '{base}' encontrado na sequência.\") # Verifica se todas as bases nas sequências estão dentro do alfabeto permitido\n",
        "    return [{b: occ.count(b) + pseudocontagem for b in alfabeto} for occ in zip(*seqs)] # Calcula a contagem de cada base nas diferentes posições das sequências e retorna uma lista de dicionários\n",
        "\n",
        "'''Normaliza a tabela de contagens dividindo cada valor pelo número total de sequências ajustado à pseudocontagem'''\n",
        "def pwm(seqs, tipo = \"DNA\", pseudocontagem = 0):\n",
        "    assert all(len(seqs[0]) == len(s) for s in seqs) # Verifica se todas as sequências têm o mesmo comprimento\n",
        "\n",
        "    '''Define o tipo de sequência (DNA ou Proteína) e o alfabeto apropriado.'''\n",
        "    tipo = tipo.upper()\n",
        "    assert tipo in \"DNA PROTEIN\".split(), f\"Tipo {tipo} inválido!\"\n",
        "    alfabeto = \"ACGT\" if tipo == \"DNA\" else \"ACGU\"\n",
        "    '''Verifica se todas as bases nas sequências estão dentro do alfabeto especificado.'''\n",
        "    for seq in seqs:\n",
        "        for base in seq:\n",
        "            if base not in alfabeto:\n",
        "                raise AssertionError(f\"Caractere inválido '{base}' encontrado na sequência.\")\n",
        "\n",
        "    tabela = tabela_contagens(seqs, alfabeto=alfabeto, pseudocontagem=pseudocontagem) # Calcula a tabela de contagens\n",
        "\n",
        "    '''Normaliza a tabela de contagens para gerar a PWM'''\n",
        "    L = len(seqs)\n",
        "    A = len(alfabeto)\n",
        "\n",
        "    return [{k: v / (L + A * pseudocontagem) for k, v in linha.items()} for linha in tabela] # Retorna a PWM normalizada\n",
        "\n",
        "'''Imprime a PWM com um número específico de casas decimais.'''\n",
        "def imprime_pwm(pwm, casas_decimais = 2):\n",
        "    return [{k : round(v, casas_decimais) for k, v in linha.items()} for linha in pwm]\n",
        "\n",
        "'''Calcula a PSSM a partir de uma PWM, utilizando logaritmos baseados na razão das probabilidades'''\n",
        "def pssm(pwm, bg_freq=None):\n",
        "    if bg_freq is None:\n",
        "        bg_freq = {k: 1 / len(pwm[0]) for k in pwm[0].keys()} # Frequência uniforme para cada base\n",
        "\n",
        "    if not all(isinstance(coluna, dict) for coluna in pwm):\n",
        "        raise AssertionError(\"A PWM deve ser uma lista de dicionários.\") # Verifica se a PWM é uma lista de dicionários\n",
        "\n",
        "    return [\n",
        "        {k: math.log2(v / bg_freq[k]) if v > 0 else float('-inf') for k, v in coluna.items()} # Calcula a PSSM para cada coluna da PWM através do logaritmo das probabilidades\n",
        "        for coluna in pwm\n",
        "    ]\n",
        "\n",
        "'''Imprime a PSSM com casas decimais.'''\n",
        "def imprime_pssm(pssm, casas_decimais=2):\n",
        "    return [{k: round(v, casas_decimais) for k, v in linha.items()} for linha in pssm]\n",
        "\n",
        "'''Calcula a probabilidade de uma sequência com base na PWM, multiplicando as probabilidades das letras correspondentes nas posições respetivas'''\n",
        "def prob_gerar_sequencia(seq, pwm):\n",
        "    assert len(seq) == len(pwm) # Verifica se o comprimento da sequência é compatível com a PWM\n",
        "\n",
        "    prob = 1\n",
        "    for letra, coluna in zip(seq, pwm):\n",
        "        prob *= coluna[letra] # Multiplica as probabilidades das bases correspondentes\n",
        "    return prob\n",
        "\n",
        "'''Calcula o score de uma sequência com base na PSSM, somando os scores das letras correspondentes nas posições respetivas'''\n",
        "def score_gerar_sequencia(seq, pssm):\n",
        "    assert len(seq) == len(pssm) # Verifica se o comprimento da sequência é compatível com a PSSM\n",
        "\n",
        "    score = 0\n",
        "    for letra, coluna in zip(seq, pssm):\n",
        "        score += coluna[letra] # Soma os scores das bases correspondentes\n",
        "    return score\n",
        "\n",
        "'''Percorre a sequência alvo e avalia todas as subsequências possíveis do tamanho da PWM ou PSSM. Calcula os scores ou probabilidades de todas as subsequências e retorna a(s) subsequência(s) com o maior valor.'''\n",
        "def seq_mais_provavel(seq, matriz, tipo=\"PWM\"):\n",
        "    assert len(seq) >= len(matriz) # Verifica se a sequência é longa o suficiente para ter subsequências\n",
        "    L = len(matriz) # Tamanho da matriz (tamanho da subsequência)\n",
        "\n",
        "    R = '.' * L # Expressão regular para encontrar todas as subsequências possíveis\n",
        "    resultados = {}\n",
        "    for s in re.findall(f'(?=({R}))', seq): # Percorre todas as subsequências\n",
        "        if tipo == \"PWM\":\n",
        "            resultados[s] = prob_gerar_sequencia(s, matriz) # Calcula a probabilidade para PWM\n",
        "        elif tipo == \"PSSM\":\n",
        "            resultados[s] = score_gerar_sequencia(s, matriz) # Calcula a probabilidade para PSSM\n",
        "\n",
        "    '''Encontra o maior valor de probabilidade/score e retorna as subsequências correspondentes ordenadas de forma crescente'''\n",
        "    maior_valor = max(resultados.values())\n",
        "    return sorted(set([k for k, v in resultados.items() if v >= maior_valor]))\n",
        "\n",
        "'''Cálculo da PWM'''\n",
        "pwm_result = pwm(seqs, tipo=\"DNA\", pseudocontagem=1)\n",
        "print(\"PWM:\")\n",
        "print(imprime_pwm(pwm_result))\n",
        "\n",
        "'''Cálculo da PSSM com base no resultado da PWM'''\n",
        "pssm_result = pssm(pwm_result)\n",
        "print(\"\\nPSSM:\")\n",
        "print(imprime_pssm(pssm_result))\n",
        "\n",
        "'''Exemplo de uma sequência a testar'''\n",
        "seq_a_testar = \"ATTGACTCATTC\"\n",
        "\n",
        "'''Encontra as subsequências mais prováveis de acordo com a PWM'''\n",
        "subseqs_mais_provaveis_pwm = seq_mais_provavel(seq_a_testar, pwm_result, tipo=\"PWM\")\n",
        "'''Encontra as subsequências mais prováveis de acordo com a PSSM'''\n",
        "subseqs_mais_provaveis_pssm = seq_mais_provavel(seq_a_testar, pssm_result, tipo=\"PSSM\")\n",
        "\n",
        "'''Demostração dos resultados'''\n",
        "print(\"\\nSubsequências mais prováveis (PWM):\")\n",
        "print(subseqs_mais_provaveis_pwm)\n",
        "\n",
        "print(\"\\nSubsequências com maior score (PSSM):\")\n",
        "print(subseqs_mais_provaveis_pssm)"
      ],
      "metadata": {
        "colab": {
          "base_uri": "https://localhost:8080/"
        },
        "id": "x4qBTFolY0k1",
        "outputId": "9ceabb0d-c94e-4650-9fa2-7309c0ec735c"
      },
      "execution_count": null,
      "outputs": [
        {
          "output_type": "stream",
          "name": "stdout",
          "text": [
            "PWM:\n",
            "[{'A': 0.5, 'C': 0.12, 'G': 0.12, 'T': 0.25}, {'A': 0.12, 'C': 0.12, 'G': 0.25, 'T': 0.5}, {'A': 0.25, 'C': 0.25, 'G': 0.12, 'T': 0.38}, {'A': 0.12, 'C': 0.25, 'G': 0.5, 'T': 0.12}, {'A': 0.38, 'C': 0.12, 'G': 0.12, 'T': 0.38}, {'A': 0.12, 'C': 0.38, 'G': 0.38, 'T': 0.12}, {'A': 0.38, 'C': 0.12, 'G': 0.12, 'T': 0.38}, {'A': 0.12, 'C': 0.38, 'G': 0.38, 'T': 0.12}, {'A': 0.5, 'C': 0.12, 'G': 0.12, 'T': 0.25}, {'A': 0.12, 'C': 0.5, 'G': 0.25, 'T': 0.12}, {'A': 0.25, 'C': 0.12, 'G': 0.12, 'T': 0.5}, {'A': 0.25, 'C': 0.5, 'G': 0.12, 'T': 0.12}]\n",
            "\n",
            "PSSM:\n",
            "[{'A': 1.0, 'C': -1.0, 'G': -1.0, 'T': 0.0}, {'A': -1.0, 'C': -1.0, 'G': 0.0, 'T': 1.0}, {'A': 0.0, 'C': 0.0, 'G': -1.0, 'T': 0.58}, {'A': -1.0, 'C': 0.0, 'G': 1.0, 'T': -1.0}, {'A': 0.58, 'C': -1.0, 'G': -1.0, 'T': 0.58}, {'A': -1.0, 'C': 0.58, 'G': 0.58, 'T': -1.0}, {'A': 0.58, 'C': -1.0, 'G': -1.0, 'T': 0.58}, {'A': -1.0, 'C': 0.58, 'G': 0.58, 'T': -1.0}, {'A': 1.0, 'C': -1.0, 'G': -1.0, 'T': 0.0}, {'A': -1.0, 'C': 1.0, 'G': 0.0, 'T': -1.0}, {'A': 0.0, 'C': -1.0, 'G': -1.0, 'T': 1.0}, {'A': 0.0, 'C': 1.0, 'G': -1.0, 'T': -1.0}]\n",
            "\n",
            "Subsequências mais prováveis (PWM):\n",
            "['ATTGACTCATTC']\n",
            "\n",
            "Subsequências com maior score (PSSM):\n",
            "['ATTGACTCATTC']\n"
          ]
        }
      ]
    },
    {
      "cell_type": "markdown",
      "source": [
        "#Testes Unitários"
      ],
      "metadata": {
        "id": "DX3LZi_DWIL2"
      }
    },
    {
      "cell_type": "code",
      "source": [
        "import unittest\n",
        "\n",
        "class TestMotifs(unittest.TestCase):\n",
        "\n",
        "  '''Verifica se a função pwm lança um erro quando o tipo inválido é passado.'''\n",
        "\n",
        "  def test_alfabeto_caracter_errado_dna(self):\n",
        "    with self.assertRaises(AssertionError):\n",
        "      pwm(['ATTG', 'ATCG','ATTC','ACTC'], tipo=\"DNA%\")\n",
        "\n",
        "  '''Verifica se a função tabela_contagens emite erro quando há caracteres inválidos nas sequências de DNA.'''\n",
        "\n",
        "  def test_tabela_contagens_caracter_invalido_dna(self):\n",
        "    seqs_invalidas = ['ATTX', 'ATCG', 'ACGT', 'ACTC']\n",
        "    with self.assertRaises(AssertionError):\n",
        "        tabela_contagens(seqs_invalidas, alfabeto=\"ACGT\")\n",
        "\n",
        "  '''Verifica se a função tabela_contagens emite erro quando há caracteres inválidos nas sequências de RNA.'''\n",
        "\n",
        "  def test_tabela_contagens_caracter_invalido_rna(self):\n",
        "    seqs_invalidas = ['AUGC', 'ACUG', 'AGCU', 'ACTC']\n",
        "    with self.assertRaises(AssertionError):\n",
        "        tabela_contagens(seqs_invalidas, alfabeto=\"ACGU\")\n",
        "\n",
        "  '''Verifica se a função pwm lança um erro quando as sequências têm tamanhos diferentes.'''\n",
        "\n",
        "  def test_pwm_tamanhos_diferentes(self):\n",
        "    with self.assertRaises(AssertionError):\n",
        "        pwm([\"ACGT\", \"TGCA\", \"ACG\"], \"DNA\")\n",
        "\n",
        "  ''' Verifica se a função imprime_pwm gera a matriz PWM correta e a exibe com a quantidade adequada de casas decimais.'''\n",
        "\n",
        "  def test_imprime_pwm(self):\n",
        "        pwm_matrix = pwm([\"ATTG\", \"ATCG\"], tipo=\"DNA\", pseudocontagem=1)\n",
        "        result = imprime_pwm(pwm_matrix, casas_decimais=2)\n",
        "        expected = [\n",
        "            {'A': 0.5, 'C': 0.17, 'G': 0.17, 'T': 0.17},\n",
        "            {'A': 0.17, 'C': 0.17, 'G': 0.17, 'T': 0.5},\n",
        "            {'A': 0.17, 'C': 0.33, 'G': 0.17, 'T': 0.33},\n",
        "            {'A': 0.17, 'C': 0.17, 'G': 0.5, 'T': 0.17}\n",
        "            ]\n",
        "        self.assertEqual(result, expected)\n",
        "\n",
        "  def test_seq_mais_provavel_pwm(self):\n",
        "        pwm_matrix = pwm([\"ATTG\", \"ATCG\"], tipo=\"DNA\", pseudocontagem=1)\n",
        "        result = seq_mais_provavel(\"ATTGACTCATTC\", pwm_matrix, tipo=\"PWM\")\n",
        "        self.assertIn(\"ATTG\", result)\n",
        "\n",
        "  '''Verificar que a função pssm() gera um erro de AssertionError quando as sequências fornecidas à função pwm() têm tamanhos diferentes.'''\n",
        "\n",
        "  def test_pssm_tamanhos_de_sequencia_diferentes(self):\n",
        "    seqs_invalidas = [\"ACT\", \"TGCA\", \"TCG\"]\n",
        "    with self.assertRaises(AssertionError):\n",
        "      pwm(seqs_invalidas, \"DNA\")\n",
        "\n",
        "  '''Verifica se a PSSM é composta por caracteres inválidos.'''\n",
        "\n",
        "  def test_pssm_caracter_invalido(self):\n",
        "        seqs_invalidas = (\"AC/\", \"UGC\", \"UCG\")\n",
        "        with self.assertRaises(AssertionError):\n",
        "            pssm(seqs_invalidas, \"RNA\")\n",
        "\n",
        "  '''Verifica se a PSSM está a retornar corretamente a sequência mais provável.'''\n",
        "\n",
        "  def test_seq_mais_provavel_pssm(self):\n",
        "        pwm_matrix = pwm([\"ATTG\", \"ATCG\"], tipo=\"DNA\", pseudocontagem=1)\n",
        "        pssm_matrix = pssm(pwm_matrix)\n",
        "        result = seq_mais_provavel(\"ATTGACTCATTC\", pssm_matrix, tipo=\"PSSM\")\n",
        "        self.assertIn(\"ATTG\", result)\n",
        "\n",
        "  '''Verifica se todos os valores retornados pela matriz de PSSM são floats.'''\n",
        "\n",
        "  def test_pssm_with_custom_bg_freq(self):\n",
        "        pwm_matrix = pwm([\"ATTG\", \"ATCG\"], tipo=\"DNA\", pseudocontagem=1)\n",
        "        bg_freq = {'A': 0.4, 'C': 0.2, 'G': 0.2, 'T': 0.2}\n",
        "        result = pssm(pwm_matrix, bg_freq=bg_freq)\n",
        "        self.assertTrue(all(isinstance(v, float) for col in result for v in col.values()))\n",
        "\n",
        "suite = unittest.TestLoader().loadTestsFromTestCase(TestMotifs)\n",
        "unittest.TextTestRunner(verbosity=3).run(suite)"
      ],
      "metadata": {
        "colab": {
          "base_uri": "https://localhost:8080/"
        },
        "id": "fZq8XVYanF05",
        "outputId": "dcf344cd-c509-4546-cce5-114c72d900f0"
      },
      "execution_count": null,
      "outputs": [
        {
          "output_type": "stream",
          "name": "stderr",
          "text": [
            "test_alfabeto_caracter_errado_dna (__main__.TestMotifs.test_alfabeto_caracter_errado_dna) ... ok\n",
            "test_imprime_pwm (__main__.TestMotifs.test_imprime_pwm) ... ok\n",
            "test_pssm_caracter_invalido (__main__.TestMotifs.test_pssm_caracter_invalido) ... ok\n",
            "test_pssm_tamanhos_de_sequencia_diferentes (__main__.TestMotifs.test_pssm_tamanhos_de_sequencia_diferentes) ... ok\n",
            "test_pssm_with_custom_bg_freq (__main__.TestMotifs.test_pssm_with_custom_bg_freq) ... ok\n",
            "test_pwm_tamanhos_diferentes (__main__.TestMotifs.test_pwm_tamanhos_diferentes) ... ok\n",
            "test_seq_mais_provavel_pssm (__main__.TestMotifs.test_seq_mais_provavel_pssm) ... ok\n",
            "test_seq_mais_provavel_pwm (__main__.TestMotifs.test_seq_mais_provavel_pwm) ... ok\n",
            "test_tabela_contagens_caracter_invalido_dna (__main__.TestMotifs.test_tabela_contagens_caracter_invalido_dna) ... ok\n",
            "test_tabela_contagens_caracter_invalido_rna (__main__.TestMotifs.test_tabela_contagens_caracter_invalido_rna) ... ok\n",
            "\n",
            "----------------------------------------------------------------------\n",
            "Ran 10 tests in 0.032s\n",
            "\n",
            "OK\n"
          ]
        },
        {
          "output_type": "execute_result",
          "data": {
            "text/plain": [
              "<unittest.runner.TextTestResult run=10 errors=0 failures=0>"
            ]
          },
          "metadata": {},
          "execution_count": 3
        }
      ]
    },
    {
      "cell_type": "markdown",
      "source": [
        "# Árvores filogenéticas\n",
        "\n",
        "\n",
        "\n"
      ],
      "metadata": {
        "id": "HsJBRnoVVO7W"
      }
    },
    {
      "cell_type": "markdown",
      "source": [
        "Este algoritmo utiliza uma abordagem de clustering hierárquico baseada em alinhamento de sequências para construir uma árvore filogenética. Considera as similaridades entre as sequências fornecidas e organiza-as em uma estrutura hierárquica.\n",
        "\n",
        "É implementado o algoritmo de Needleman-Wunsch, usado para calcular a similaridade global entre duas sequências. Ele utiliza a matriz BLOSUM62 para pontuar correspondências e penalidades para inserções ou deleções (gaps). O alinhamento é feito de forma dinâmica, preenchendo uma matriz de pontuação e calculando o melhor alinhamento.\n",
        "\n",
        "Uma matriz de distâncias é construída calculando a pontuação de alinhamento entre todas as combinações de sequências fornecidas. Isso resulta em uma matriz simétrica, onde cada valor representa a similaridade entre duas sequências.\n",
        "\n",
        "A função arvore retorna o cluster final representando a árvore filogenética. Além disso, a função formata a saída, exibindo tanto a estrutura hierárquica da árvore quanto as sequências utilizadas, nomeadas sequencialmente para fácil identificação.\n",
        "\n",
        "\n"
      ],
      "metadata": {
        "id": "mgYhsEmJVXLX"
      }
    },
    {
      "cell_type": "markdown",
      "source": [
        "# Descrição de alto nível"
      ],
      "metadata": {
        "id": "oYro6fVn9kNM"
      }
    },
    {
      "cell_type": "markdown",
      "source": [
        "\n",
        "# Entrada:\n",
        "\n",
        "\n",
        "*   Lista de sequências (lista_seqs): Contém as sequências que serão analisadas (DNA, RNA ou proteínas).\n",
        "\n",
        "*   Tipo de sequência (seq_type): Indica o tipo das sequências fornecidas (e.g., \"DNA\", \"RNA\" ou \"protein\").\n",
        "\n",
        "\n",
        "\n",
        "\n",
        "\n"
      ],
      "metadata": {
        "id": "l1SOGCC1Vjtw"
      }
    },
    {
      "cell_type": "markdown",
      "source": [
        "# Validação:\n",
        "\n",
        "\n",
        "\n",
        "*   Verifica se a lista de sequências está vazia. Caso esteja, lança uma exceção (ValueError).\n",
        "\n",
        "*   Valida se todas as sequências são compatíveis com o tipo fornecido utilizando a função validar_sequencias.\n",
        "\n"
      ],
      "metadata": {
        "id": "xxTdtI4zV5CR"
      }
    },
    {
      "cell_type": "markdown",
      "source": [
        "# Inicialização:\n",
        "\n",
        "\n",
        "\n",
        "*   Cada sequência é representada por um identificador único (e.g., \"Seq1\", \"Seq2\").\n",
        "\n",
        "*  Uma matriz de distâncias é criada, onde cada célula contém o escore de alinhamento entre duas sequências, calculado com o algoritmo Needleman-Wunsch usando a matriz de substituição BLOSUM62 (ou pontuações genéricas para DNA/RNA).\n",
        "\n"
      ],
      "metadata": {
        "id": "ahkxdaJgWA6S"
      }
    },
    {
      "cell_type": "markdown",
      "source": [
        "# Clustering Hierárquico:\n",
        "\n",
        "\n",
        "\n",
        "*   Busca o par de clusters com a menor distância:\n",
        "      *   Percorre a matriz de distâncias para encontrar os dois clusters mais próximos.\n",
        "\n",
        "*   Atualiza os clusters:\n",
        "      *  Combina os dois clusters selecionados em um único cluster.\n",
        "\n",
        "      *   Atualiza a matriz de distâncias usando a distância média entre os novos clusters e os antigos.\n",
        "    \n",
        "\n",
        " *   Repete o processo até que reste apenas um cluster:\n",
        "\n",
        "      *   O último cluster representa a árvore filogenética final.\n",
        "\n",
        "\n",
        "\n",
        "\n",
        "\n",
        "\n"
      ],
      "metadata": {
        "id": "9T0tI7U1WKwd"
      }
    },
    {
      "cell_type": "markdown",
      "source": [
        "# Saída:\n",
        "\n",
        "\n",
        "\n",
        "*   Uma tupla representando a estrutura hierárquica final dos clusters.\n",
        "*   A sequencia correspondente a cada SEQ X\n",
        "\n",
        "\n"
      ],
      "metadata": {
        "id": "TabO1NmeW8ha"
      }
    },
    {
      "cell_type": "code",
      "source": [
        "import re\n",
        "\n",
        "def validar_sequencias(lista_seqs, seq_type):\n",
        "  # Verifica o tipo de sequência\n",
        "    if seq_type == 'DNA':\n",
        "        padrao = re.compile(\"^[ACGT]+$\")\n",
        "    elif seq_type == 'RNA':\n",
        "        padrao = re.compile(\"^[ACGU]+$\")\n",
        "    elif seq_type == 'protein':\n",
        "        padrao = re.compile(\"^[ACDEFGHIKLMNPQRSTVWY]+$\")\n",
        "    else:\n",
        "        raise ValueError(\"Tipo de sequência incompatível com o selecionado.\")\n",
        " # Valida cada sequência\n",
        "    for seq in lista_seqs:\n",
        "        if not padrao.match(seq): # Se a sequência não corresponder ao padrão, retorna False\n",
        "            return False\n",
        "    return True  # Retorna True se todas as sequências forem válidas\n",
        "\n",
        "\n",
        "class Blosum62:\n",
        "    def __init__(self):\n",
        "        tabela = \"\"\"\n",
        "   A  R  N  D  C  Q  E  G  H  I  L  K  M  F  P  S  T  W  Y  V  B  Z  X  -\n",
        "A  4 -1 -2 -2  0 -1 -1  0 -2 -1 -1 -1 -1 -2 -1  1  0 -3 -2  0 -2 -1  0 -4\n",
        "R -1  5  0 -2 -3  1  0 -2  0 -3 -2  2 -1 -3 -2 -1 -1 -3 -2 -3 -1  0 -1 -4\n",
        "N -2  0  6  1 -3  0  0  0  1 -3 -3  0 -2 -3 -2  1  0 -4 -2 -3  3  0 -1 -4\n",
        "D -2 -2  1  6 -3  0  2 -1 -1 -3 -4 -1 -3 -3 -1  0 -1 -4 -3 -3  4  1 -1 -4\n",
        "C  0 -3 -3 -3  9 -3 -4 -3 -3 -1 -1 -3 -1 -2 -3 -1 -1 -2 -2 -1 -3 -3 -2 -4\n",
        "Q -1  1  0  0 -3  5  2 -2  0 -3 -2  1  0 -3 -1  0 -1 -2 -1 -2  0  3 -1 -4\n",
        "E -1  0  0  2 -4  2  5 -2  0 -3 -3  1 -2 -3 -1  0 -1 -3 -2 -2  1  4 -1 -4\n",
        "G  0 -2  0 -1 -3 -2 -2  6 -2 -4 -4 -2 -3 -3 -2  0 -2 -2 -3 -3 -1 -2 -1 -4\n",
        "H -2  0  1 -1 -3  0  0 -2  8 -3 -3 -1 -2 -1 -2 -1 -2 -2  2 -3  0  0 -1 -4\n",
        "I -1 -3 -3 -3 -1 -3 -3 -4 -3  4  2 -3  1  0 -3 -2 -1 -3 -1  3 -3 -3 -1 -4\n",
        "L -1 -2 -3 -4 -1 -2 -3 -4 -3  2  4 -2  2  0 -3 -2 -1 -2 -1  1 -4 -3 -1 -4\n",
        "K -1  2  0 -1 -3  1  1 -2 -1 -3 -2  5 -1 -3 -1  0 -1 -3 -2 -2  0  1 -1 -4\n",
        "M -1 -1 -2 -3 -1  0 -2 -3 -2  1  2 -1  5  0 -2 -1 -1 -1 -1  1 -3 -1 -1 -4\n",
        "F -2 -3 -3 -3 -2 -3 -3 -3 -1  0  0 -3  0  6 -4 -2 -2  1  3 -1 -3 -3 -1 -4\n",
        "P -1 -2 -2 -1 -3 -1 -1 -2 -2 -3 -3 -1 -2 -4  7 -1 -1 -4 -3 -2 -2 -1 -2 -4\n",
        "S  1 -1  1  0 -1  0  0  0 -1 -2 -2  0 -1 -2 -1  4  1 -3 -2 -2  0  0  0 -4\n",
        "T  0 -1  0 -1 -1 -1 -1 -2 -2 -1 -1 -1 -1 -2 -1  1  5 -2 -2  0 -1 -1  0 -4\n",
        "W -3 -3 -4 -4 -2 -2 -3 -2 -2 -3 -2 -3 -1  1 -4 -3 -2 11  2 -3 -4 -3 -2 -4\n",
        "Y -2 -2 -2 -3 -2 -1 -2 -3  2 -1 -1 -2 -1  3 -3 -2 -2  2  7 -1 -3 -2 -1 -4\n",
        "V  0 -3 -3 -3 -1 -2 -2 -3 -3  3  1 -2  1 -1 -2 -2  0 -3 -1  4 -3 -2 -1 -4\n",
        "B -2 -1  3  4 -3  0  1 -1  0 -3 -4  0 -3 -3 -2  0 -1 -4 -3 -3  4  1 -1 -4\n",
        "Z -1  0  0  1 -3  3  4 -2  0 -3 -3  1 -1 -3 -1  0 -1 -3 -2 -2  1  4 -1 -4\n",
        "X  0 -1 -1 -1 -2 -1 -1 -1 -1 -1 -1 -1 -1 -1 -2  0  0 -2 -1 -1 -1 -1 -1 -4\n",
        "- -4 -4 -4 -4 -4 -4 -4 -4 -4 -4 -4 -4 -4 -4 -4 -4 -4 -4 -4 -4 -4 -4 -4  1\n",
        "\"\"\"\n",
        "\n",
        "        tabela = [T.split() for T in tabela.splitlines() if T]  #Separa a tabela em linhas e coluna\n",
        "\n",
        "        headers, *resto = tabela # Separa os cabeçalhos das linhas de dados\n",
        "\n",
        "        from collections import defaultdict\n",
        "        tab = defaultdict(dict)\n",
        "         # Preenche o dicionário com os valores da tabela BLOSUM62\n",
        "        for linha in resto:\n",
        "            aa, *lst = linha\n",
        "            for header, score in zip(headers, lst):\n",
        "                tab[aa][header] = int(score)\n",
        "        self.tab = tab  # Armazena a tabela no atributo 'tab'\n",
        "\n",
        "    def subst(self, x, y):\n",
        "      # Retorna a pontuação de substituição entre dois aminoácidos\n",
        "        return self.tab[x][y]\n",
        "\n",
        "\n",
        "def needleman_wunsch(s1, s2, g=-8):\n",
        "   # Calcula o alinhamento global entre duas sequências usando Needleman-Wunsch\n",
        "    blosum62 = Blosum62()\n",
        "    # Inicializa a matriz de pontuação\n",
        "    score = [[0 for _ in range(len(s1) + 1)] for _ in range(len(s2) + 1)]\n",
        "    # Preenche as primeiras linhas e colunas da matriz com a penalidade de gap\n",
        "    for i in range(1, len(s1) + 1):\n",
        "        score[0][i] = score[0][i - 1] + g\n",
        "    for j in range(1, len(s2) + 1):\n",
        "        score[j][0] = score[j - 1][0] + g\n",
        "\n",
        "    # Preenche o resto da matriz calculando o valor de substituição e penalidade de gap\n",
        "    for j in range(1, len(s2) + 1):\n",
        "        for i in range(1, len(s1) + 1):\n",
        "            match = score[j - 1][i - 1] + blosum62.subst(s1[i - 1], s2[j - 1])\n",
        "            delete = score[j - 1][i] + g\n",
        "            insert = score[j][i - 1] + g\n",
        "            score[j][i] = max(match, delete, insert) # Escolhe a melhor opção (match, delete ou insert)\n",
        "\n",
        "    return score[-1][-1] # Retorna o valor de alinhamento final\n",
        "\n",
        "\n",
        "def atualiza_matriz_dist(matriz, clusters, idx1, idx2):\n",
        "  # Atualiza a matriz de distâncias após combinar dois clusters\n",
        "    novos_clusters = []\n",
        "    nova_matriz = []\n",
        "\n",
        "    # Combine os clusters idx1 e idx2\n",
        "    novo_cluster = (clusters[idx1], clusters[idx2])\n",
        "    novos_clusters = [novo_cluster if i == idx1 else clusters[i] for i in range(len(clusters)) if i != idx2]\n",
        "\n",
        "    # Cria uma nova matriz de distâncias\n",
        "    for i in range(len(novos_clusters)):\n",
        "        nova_linha = []\n",
        "        for j in range(len(novos_clusters)):\n",
        "            if i == j:\n",
        "                nova_linha.append(0) # A distância de um cluster consigo mesmo é 0\n",
        "            elif i == len(novos_clusters) - 1 or j == len(novos_clusters) - 1:\n",
        "               # Calcula a nova distância entre os clusters combinados\n",
        "                d1 = matriz[min(idx1, idx2)][max(idx1, idx2)]\n",
        "                d2 = matriz[min(i, idx1)][max(i, idx1)] if i != idx1 else matriz[min(i, idx2)][max(i, idx2)]\n",
        "                nova_dist = (d1 + d2) / 2 if i != j else 0\n",
        "                nova_linha.append(nova_dist)\n",
        "            else:\n",
        "                nova_linha.append(matriz[min(i, j)][max(i, j)])\n",
        "        nova_matriz.append(nova_linha)\n",
        "\n",
        "    return nova_matriz, novos_clusters # Retorna a nova matriz de distâncias e os novos clusters\n",
        "\n",
        "\n",
        "def arvore(lista_seqs: list[str], seq_type: str = 'protein', mostrar_resultado: bool = True) -> tuple:\n",
        "    if not lista_seqs:\n",
        "        raise ValueError(\"A lista de sequências está vazia.\") # Verifica se a lista de sequências não está vazia\n",
        "\n",
        "    if not validar_sequencias(lista_seqs, seq_type):\n",
        "        raise ValueError(f\"As sequências fornecidas não são compatíveis com o tipo de sequência '{seq_type}'.\")  # Valida as sequências fornecidas\n",
        "\n",
        "    nomes = [f\"Seq{i+1}\" for i in range(len(lista_seqs))]  # Gera os nomes das sequências\n",
        "    matriz = [[0 if i == j else -needleman_wunsch(lista_seqs[i], lista_seqs[j]) for j in range(len(lista_seqs))] for i in range(len(lista_seqs))]\n",
        "\n",
        "    clusters = nomes[:]  # Inicializa os clusters com os nomes das sequências\n",
        "\n",
        "    while len(clusters) > 1:  # Enquanto houver mais de um cluster\n",
        "        min_dist = float('inf')\n",
        "        i, j = -1, -1\n",
        "        for x in range(len(matriz)):\n",
        "            for y in range(x + 1, len(matriz)):\n",
        "                if matriz[x][y] < min_dist:\n",
        "                    min_dist = matriz[x][y]\n",
        "                    i, j = x, y\n",
        "\n",
        "        # Chama a função atualiza_matriz_dist para atualizar a matriz de distâncias após combinar os clusters\n",
        "        nova_matriz, clusters = atualiza_matriz_dist(matriz, clusters, i, j)\n",
        "        matriz = nova_matriz  # Atualiza a matriz de distâncias\n",
        "\n",
        "    resultado_final = tuple(clusters)\n",
        "\n",
        "    if mostrar_resultado:\n",
        "        print(\"Resultado da Árvore Filogenética:\")\n",
        "        print(f\"{(resultado_final)}\\n\")\n",
        "        print(\"Sequências:\")\n",
        "        for nome, seq in zip(nomes, lista_seqs):\n",
        "            print(f\"{nome}: {seq}\")\n",
        "\n",
        "    return resultado_final\n",
        "# Exemplo\n",
        "lista_seqs = [\n",
        "    \"ACDEFGHIKLMNPQRSTVWY\",\n",
        "    \"DEFGHIKLMNPQRSTVWYA\",\n",
        "    \"FGHIKLMNPQRSTVWYAC\",\n",
        "    \"HIKLMNPQRSTVWYACDE\",\n",
        "    \"IKLMNPQRSTVWYACDEF\",\n",
        "    \"KLMNPQRSTVWYACDEFG\",\n",
        "    \"LMNPQRSTVWYACDEFGH\",\n",
        "    \"MNPQRSTVWYACDEFGHI\",\n",
        "    \"NPQRSTVWYACDEFGHIK\",\n",
        "    \"PQRSTVWYACDEFGHIKL\"\n",
        "]\n",
        "\n",
        "seq_type = 'protein'\n",
        "\n",
        "# Chama a função para gerar a árvore filogenética\n",
        "arvore(lista_seqs, seq_type);"
      ],
      "metadata": {
        "id": "n72AFWYVXQIb",
        "colab": {
          "base_uri": "https://localhost:8080/"
        },
        "outputId": "114fdfe6-b77f-4217-9248-0e94e5c22e8c"
      },
      "execution_count": null,
      "outputs": [
        {
          "output_type": "stream",
          "name": "stdout",
          "text": [
            "Resultado da Árvore Filogenética:\n",
            "(((('Seq1', 'Seq2'), 'Seq3'), ('Seq4', ('Seq5', ('Seq6', ((('Seq7', 'Seq8'), 'Seq9'), 'Seq10'))))),)\n",
            "\n",
            "Sequências:\n",
            "Seq1: ACDEFGHIKLMNPQRSTVWY\n",
            "Seq2: DEFGHIKLMNPQRSTVWYA\n",
            "Seq3: FGHIKLMNPQRSTVWYAC\n",
            "Seq4: HIKLMNPQRSTVWYACDE\n",
            "Seq5: IKLMNPQRSTVWYACDEF\n",
            "Seq6: KLMNPQRSTVWYACDEFG\n",
            "Seq7: LMNPQRSTVWYACDEFGH\n",
            "Seq8: MNPQRSTVWYACDEFGHI\n",
            "Seq9: NPQRSTVWYACDEFGHIK\n",
            "Seq10: PQRSTVWYACDEFGHIKL\n"
          ]
        }
      ]
    },
    {
      "cell_type": "markdown",
      "source": [
        "# Testes Unitários"
      ],
      "metadata": {
        "id": "WNPVFE1nXZkG"
      }
    },
    {
      "cell_type": "code",
      "source": [
        "import unittest\n",
        "\n",
        "class TestFilogenia(unittest.TestCase):\n",
        "    def test_validar_sequencias_DNA(self):\n",
        "        self.assertTrue(validar_sequencias([\"ATCG\", \"CGTA\"], \"DNA\"))\n",
        "        self.assertFalse(validar_sequencias([\"ATCG\", \"CGTX\"], \"DNA\"))\n",
        "\n",
        "    def test_validar_sequencias_RNA(self):\n",
        "        self.assertTrue(validar_sequencias([\"AUCG\", \"CUGA\"], \"RNA\"))\n",
        "        self.assertFalse(validar_sequencias([\"AUCG\", \"CXTG\"], \"RNA\"))\n",
        "\n",
        "    def test_validar_sequencias_protein(self):\n",
        "        self.assertTrue(validar_sequencias([\"ACDE\", \"FGHI\"], \"protein\"))\n",
        "        self.assertFalse(validar_sequencias([\"ACDE\", \"FGXI\"], \"protein\"))\n",
        "\n",
        "    def test_needleman_wunsch(self):\n",
        "        score = needleman_wunsch(\"ACG\", \"AGC\")\n",
        "        self.assertEqual(score, -2)\n",
        "\n",
        "    def test_atualiza_matriz_dist(self):\n",
        "        matriz = [[0, 2, 4], [2, 0, 3], [4, 3, 0]]\n",
        "        clusters = [\"Seq1\", \"Seq2\", \"Seq3\"]\n",
        "        nova_matriz, novos_clusters = atualiza_matriz_dist(matriz, clusters, 0, 1)\n",
        "        esperado_matriz = [[0, 2.0], [2.0, 0]]\n",
        "        esperado_clusters = [(\"Seq1\", \"Seq2\"), \"Seq3\"]\n",
        "        self.assertEqual(nova_matriz, esperado_matriz)\n",
        "        self.assertEqual(novos_clusters, esperado_clusters)\n",
        "\n",
        "    def test_arvore_dna_valido(self):\n",
        "        lista_seqs = [\"ACGT\", \"ACGA\", \"AGCT\", \"AGCA\"]\n",
        "        esperado = (((('Seq1', 'Seq2'), 'Seq3'), 'Seq4'),)\n",
        "\n",
        "        resultado = arvore(lista_seqs, seq_type=\"DNA\", mostrar_resultado=False)\n",
        "        self.assertEqual(resultado, esperado)\n",
        "\n",
        "\n",
        "    def test_validar_sequencias_invalidas(self):\n",
        "        with self.assertRaises(ValueError):\n",
        "          validar_sequencias([\"ATCG\", \"CGTA\"], \"XYZ\")\n",
        "\n",
        "    def test_arvore_com_sequencias_vazias(self):\n",
        "        lista_seqs = []\n",
        "        with self.assertRaises(ValueError):\n",
        "            arvore(lista_seqs, \"DNA\")\n",
        "\n",
        "    def test_needleman_wunsch_alinhamento_identico(self):\n",
        "        score = needleman_wunsch(\"ACGT\", \"ACGT\")\n",
        "        self.assertGreater(score, 0)\n",
        "\n",
        "    def test_needleman_wunsch_com_gaps(self):\n",
        "        score = needleman_wunsch(\"ACG\", \"A-G\")\n",
        "        self.assertLess(score, needleman_wunsch(\"ACG\", \"ACG\"))\n",
        "\n",
        "    def test_arvore_com_sequencias_vazias(self):\n",
        "        with self.assertRaises(ValueError) as context:\n",
        "            arvore([], \"DNA\")\n",
        "        self.assertEqual(str(context.exception), \"A lista de sequências está vazia.\")\n",
        "\n",
        "\n",
        "unittest.main(argv=[''], exit=False)\n",
        "\n"
      ],
      "metadata": {
        "id": "frHOnrmgXZJx",
        "colab": {
          "base_uri": "https://localhost:8080/"
        },
        "outputId": "7e23c47b-c3d0-4dff-b845-e7623a9a2c53"
      },
      "execution_count": null,
      "outputs": [
        {
          "output_type": "stream",
          "name": "stderr",
          "text": [
            "...............\n",
            "----------------------------------------------------------------------\n",
            "Ran 15 tests in 0.044s\n",
            "\n",
            "OK\n"
          ]
        },
        {
          "output_type": "execute_result",
          "data": {
            "text/plain": [
              "<unittest.main.TestProgram at 0x7ebee49cdf10>"
            ]
          },
          "metadata": {},
          "execution_count": 21
        }
      ]
    }
  ]
}